{
 "cells": [
  {
   "cell_type": "code",
   "execution_count": 5,
   "id": "09386155",
   "metadata": {},
   "outputs": [
    {
     "name": "stdout",
     "output_type": "stream",
     "text": [
      "int32\n",
      "[1 2 3 4]\n"
     ]
    }
   ],
   "source": [
    "import numpy as np\n",
    "arr = np.array([1,2,3,4])\n",
    "\n",
    "print(arr.dtype)\n",
    "print(arr)"
   ]
  },
  {
   "cell_type": "markdown",
   "id": "4cac38ad",
   "metadata": {},
   "source": [
    "# 0-D Arrays"
   ]
  },
  {
   "cell_type": "code",
   "execution_count": 8,
   "id": "d220e81b",
   "metadata": {},
   "outputs": [
    {
     "name": "stdout",
     "output_type": "stream",
     "text": [
      "42\n"
     ]
    }
   ],
   "source": [
    "arr = np.array(42)\n",
    "print(arr)"
   ]
  },
  {
   "cell_type": "markdown",
   "id": "288403ac",
   "metadata": {},
   "source": [
    "# 1-D Arrays"
   ]
  },
  {
   "cell_type": "code",
   "execution_count": 12,
   "id": "98e5bfa6",
   "metadata": {},
   "outputs": [
    {
     "name": "stdout",
     "output_type": "stream",
     "text": [
      "[1 2 3 4 5]\n"
     ]
    }
   ],
   "source": [
    "arr = np.array([1,2,3,4,5])\n",
    "print(arr)"
   ]
  },
  {
   "cell_type": "markdown",
   "id": "cdd03f67",
   "metadata": {},
   "source": [
    "# 2-D Arrays"
   ]
  },
  {
   "cell_type": "code",
   "execution_count": 15,
   "id": "5449bb1d",
   "metadata": {},
   "outputs": [
    {
     "name": "stdout",
     "output_type": "stream",
     "text": [
      "[[ 1  2  3  4  5]\n",
      " [ 6  7  8  9 10]]\n"
     ]
    }
   ],
   "source": [
    "arr = np.array([[1,2,3,4,5],[6,7,8,9,10]])\n",
    "print(arr)"
   ]
  },
  {
   "cell_type": "markdown",
   "id": "e26af473",
   "metadata": {},
   "source": [
    "# 3-D Arrays"
   ]
  },
  {
   "cell_type": "code",
   "execution_count": 17,
   "id": "60302da7",
   "metadata": {},
   "outputs": [
    {
     "name": "stdout",
     "output_type": "stream",
     "text": [
      "[[[1 2 3]\n",
      "  [4 5 6]]\n",
      "\n",
      " [[1 2 3]\n",
      "  [4 5 6]]]\n"
     ]
    }
   ],
   "source": [
    "arr = np.array([[[1,2,3],[4,5,6]],[[1,2,3],[4,5,6]]])\n",
    "print(arr)"
   ]
  },
  {
   "cell_type": "markdown",
   "id": "b198c2ed",
   "metadata": {},
   "source": [
    " # Check Number of Dimensions? "
   ]
  },
  {
   "cell_type": "code",
   "execution_count": 19,
   "id": "3a50214e",
   "metadata": {},
   "outputs": [
    {
     "name": "stdout",
     "output_type": "stream",
     "text": [
      "0\n",
      "1\n",
      "2\n",
      "3\n"
     ]
    }
   ],
   "source": [
    "a = np.array(42)\n",
    "b = np.array([1,2,3,4])\n",
    "c = np.array([[1,2,3,4,5],[6,7,8,9,10]])\n",
    "d = np.array([[[1,2,3],[4,5,6]],[[1,2,3],[4,5,6]]])\n",
    "\n",
    "print(a.ndim)\n",
    "print(b.ndim)\n",
    "print(c.ndim)\n",
    "print(d.ndim)\n",
    "\n",
    "\n"
   ]
  },
  {
   "cell_type": "markdown",
   "id": "89a8c2bf",
   "metadata": {},
   "source": [
    "#  Numpy.save() \n",
    "## The save() and load() functions accept an additional boolean parameter allow_pickle in python is used to serialize saving to or reading from a disk file."
   ]
  },
  {
   "cell_type": "code",
   "execution_count": 22,
   "id": "7ba99ca4",
   "metadata": {},
   "outputs": [],
   "source": [
    "a = np.array([1,2,3,4,5])\n",
    "np.save('outfile',a)"
   ]
  },
  {
   "cell_type": "code",
   "execution_count": 24,
   "id": "21416128",
   "metadata": {},
   "outputs": [
    {
     "name": "stdout",
     "output_type": "stream",
     "text": [
      "[1 2 3 4 5]\n"
     ]
    }
   ],
   "source": [
    "b = np.load('outfile.npy')\n",
    "print(b)"
   ]
  },
  {
   "cell_type": "markdown",
   "id": "be5c4e57",
   "metadata": {},
   "source": [
    "# Savetxt()"
   ]
  },
  {
   "cell_type": "code",
   "execution_count": 32,
   "id": "fe56f608",
   "metadata": {},
   "outputs": [
    {
     "name": "stdout",
     "output_type": "stream",
     "text": [
      "<class 'numpy.ndarray'>\n",
      "int32\n",
      "[1. 2. 3. 4. 5.]\n",
      "<class 'numpy.ndarray'>\n",
      "float64\n"
     ]
    }
   ],
   "source": [
    "import numpy as np\n",
    "\n",
    "a = np.array([1,2,3,4,5])\n",
    "print(type(a))\n",
    "print(a.dtype)\n",
    "np.savetxt('out.txt',a)\n",
    "b = np.loadtxt('out.txt')\n",
    "print(b)\n",
    "print(type(b))\n",
    "print(b.dtype)\n"
   ]
  },
  {
   "cell_type": "markdown",
   "id": "066df14d",
   "metadata": {},
   "source": [
    "# Indexing:-\n",
    "\n",
    "## 1. Indexing using index Arrays"
   ]
  },
  {
   "cell_type": "code",
   "execution_count": 36,
   "id": "d95ea6af",
   "metadata": {},
   "outputs": [
    {
     "name": "stdout",
     "output_type": "stream",
     "text": [
      "Elements of array: [1 3 5 7 9]\n",
      "Indexed Elements of array arr:  [9 1 5 9 7]\n"
     ]
    }
   ],
   "source": [
    "arr = np.arange(1,10,2)   # range function is not supported in numpy .\n",
    "print(\"Elements of array:\",arr)\n",
    "arr1=arr[np.array([4,0,2,-1,-2])]\n",
    "print(\"Indexed Elements of array arr: \", arr1)"
   ]
  },
  {
   "cell_type": "markdown",
   "id": "9925bb30",
   "metadata": {},
   "source": [
    "# Indexing in 1 dimension"
   ]
  },
  {
   "cell_type": "code",
   "execution_count": 40,
   "id": "c9baf24f",
   "metadata": {},
   "outputs": [
    {
     "name": "stdout",
     "output_type": "stream",
     "text": [
      "Array arr1 [0 1 2 3]\n",
      "Element at index 0 of arri is 0\n",
      "Element at index 1 of arri is 1\n"
     ]
    }
   ],
   "source": [
    "arr1 = np.arange(4)\n",
    "print(\"Array arr1\", arr1)\n",
    "print(\"Element at index 0 of arri is\", arr1[0])\n",
    "print(\"Element at index 1 of arri is\", arr1[1])"
   ]
  },
  {
   "cell_type": "markdown",
   "id": "e36f742a",
   "metadata": {},
   "source": [
    "# Indexing in 2 dimension"
   ]
  },
  {
   "cell_type": "markdown",
   "id": "4d9c05a7",
   "metadata": {},
   "source": [
    "arr = np.arange(12)\n",
    "arr1 = arr.reshape(3,4)\n",
    "print(\"Array arr1:\\n\", arr1)\n",
    "print(\"Element at eth row and eth column of arr1 is:\", arr1[0,0])\n",
    "print(\"Element at 1th row and 2nd 2olumn of arr1 is:\", arr1[1,2])"
   ]
  },
  {
   "cell_type": "markdown",
   "id": "868209f5",
   "metadata": {},
   "source": [
    "# Indexing in 3 Dimension"
   ]
  },
  {
   "cell_type": "code",
   "execution_count": 46,
   "id": "6f8848d2",
   "metadata": {},
   "outputs": [
    {
     "name": "stdout",
     "output_type": "stream",
     "text": [
      "Array arr1:\n",
      " [[[ 0  1  2]\n",
      "  [ 3  4  5]]\n",
      "\n",
      " [[ 6  7  8]\n",
      "  [ 9 10 11]]]\n",
      "Element: 8\n"
     ]
    }
   ],
   "source": [
    "arr = np.arange(12)\n",
    "arr1 = arr.reshape(2,2,3)   # x,y,z plane\n",
    "print(\"Array arr1:\\n\", arr1)\n",
    "print(\"Element:\", arr1[1,0,2])     # first display matrix second display row and third display column.\n"
   ]
  },
  {
   "cell_type": "markdown",
   "id": "c6c42d17",
   "metadata": {},
   "source": [
    "# Slicing an Array\n",
    "\n",
    "# Slicing 1D Numpy Array\n"
   ]
  },
  {
   "cell_type": "code",
   "execution_count": 48,
   "id": "b25f7f92",
   "metadata": {},
   "outputs": [
    {
     "name": "stdout",
     "output_type": "stream",
     "text": [
      "array arr: [0 1 2 3 4 5]\n",
      "sliced element of array: [1 2 3 4]\n",
      "sliced element of array: [1 2 3 4]\n"
     ]
    }
   ],
   "source": [
    "arr = np.arange(6)\n",
    "print(\"array arr:\",arr)\n",
    "print(\"sliced element of array:\", arr[1:5])\n",
    "print(\"sliced element of array:\", arr[-5:-1])"
   ]
  },
  {
   "cell_type": "markdown",
   "id": "2e0723aa",
   "metadata": {},
   "source": [
    "# Slicing 2D Numpy Array"
   ]
  },
  {
   "cell_type": "code",
   "execution_count": 49,
   "id": "33861f3d",
   "metadata": {},
   "outputs": [
    {
     "name": "stdout",
     "output_type": "stream",
     "text": [
      "Array arr1: \n",
      " [[ 0  1  2  3]\n",
      " [ 4  5  6  7]\n",
      " [ 8  9 10 11]]\n",
      "\n",
      "\n",
      "Element of 1st row and 1st column upto last column \n",
      " [[ 5  6  7]\n",
      " [ 9 10 11]]\n"
     ]
    }
   ],
   "source": [
    "arr = np.arange(12)\n",
    "arr1 =arr.reshape(3,4)\n",
    "print(\"Array arr1: \\n\",arr1)\n",
    "print(\"\\n\")\n",
    "print(\"Element of 1st row and 1st column upto last column \\n\",arr1[1:,1:4])"
   ]
  }
 ],
 "metadata": {
  "kernelspec": {
   "display_name": "Python 3 (ipykernel)",
   "language": "python",
   "name": "python3"
  },
  "language_info": {
   "codemirror_mode": {
    "name": "ipython",
    "version": 3
   },
   "file_extension": ".py",
   "mimetype": "text/x-python",
   "name": "python",
   "nbconvert_exporter": "python",
   "pygments_lexer": "ipython3",
   "version": "3.11.3"
  }
 },
 "nbformat": 4,
 "nbformat_minor": 5
}
