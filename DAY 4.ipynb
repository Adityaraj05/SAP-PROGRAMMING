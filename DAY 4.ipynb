{
 "cells": [
  {
   "cell_type": "markdown",
   "id": "7af84a1a",
   "metadata": {},
   "source": [
    "# Broadcasting\n",
    "\n",
    "Broadcasting explains the way NumPy handles arrays of various shapes when performing arithmetic operations.​Element-to-element operations cannot be performed on two arrays if their dimensions are different. NumPy still allows operations on arrays of different shape arrays due to the broadcasting feature. In order for the smaller array and the larger array to have similar shapes, they are broadcast to the same size."
   ]
  },
  {
   "cell_type": "markdown",
   "id": "881c4abb",
   "metadata": {},
   "source": [
    "import numpy as np \n",
    "a = np.array([[0.0,0.0,0.0],[10.0,10.0,10.0],[20.0,20.0,20.0],[30.0,30.0,30.0]]) \n",
    "b = np.array([1.0,2.0,3.0])  \n",
    "   \n",
    "print('First array:') \n",
    "print(a) \n",
    "print('\\n')  \n",
    "   \n",
    "print('Second array:') \n",
    "print(b) \n",
    "print('\\n')  \n",
    "   \n",
    "print('First Array + Second Array' )\n",
    "print( a + b)"
   ]
  },
  {
   "cell_type": "markdown",
   "id": "65bf8707",
   "metadata": {},
   "source": [
    "## Structured arrays\n",
    "Various types and sizes of data are organised using it. Fields are the type of data containers used by structure arrays. Any type and amount of data can be contained in each data field. Dot notation can be used to access an array's elements.\n",
    "\n",
    "-Structured array properties\n",
    "\n",
    "The array's structs all have the same number of fields. The names of the fields in all structs are the same."
   ]
  },
  {
   "cell_type": "code",
   "execution_count": 6,
   "id": "689a19d3",
   "metadata": {},
   "outputs": [
    {
     "name": "stdout",
     "output_type": "stream",
     "text": [
      "[('Sana', 2, 21.) ('Mansi', 7, 29.)]\n",
      "<class 'numpy.ndarray'>\n"
     ]
    }
   ],
   "source": [
    "#Python program to demonstrate\n",
    "# Structured array\n",
    "import numpy as np\n",
    "a = np.array([('Sana', 2, 21.0), ('Mansi', 7, 29.0)], \n",
    "             dtype=[('name', (np. str_, 10)), ('age', np.int32), ('weight', np.float64)])\n",
    "print(a)\n",
    "print(type(a))\n"
   ]
  },
  {
   "cell_type": "markdown",
   "id": "428d971b",
   "metadata": {},
   "source": [
    "## Statistical Functions\n",
    "Numpy includes a number of statistical functions that can be used to perform statistical data analysis. Statistics is concerned with gathering and analysing data. NumPy includes a number of statistical functions for analysing statistical data.\n",
    "\n",
    "np.amin()- Minimum value of the element along a specified axis.\n",
    "np.amax()- Maximum value of the element along a specified axis.\n",
    "np.mean()- Mean value of the data set.\n",
    "np.median()- Median value of the data set.\n",
    "np.ptp()- Range of values along an axis(peak to peak).\n",
    "np.std()- Standard deviation\n",
    "np.var() – Variance.\n",
    "np.average()- Weighted average\n",
    "np.percentile()- nth percentile of data along the specified axis."
   ]
  },
  {
   "cell_type": "markdown",
   "id": "904db278",
   "metadata": {},
   "source": [
    "## Mean -  Compute the arithmetic mean along the specified axis. np.mean([1,2,3,4,5])\n",
    "Median - Compute the median along the specified axis. np.median([1,5,2,3,4])\n",
    "Range -  Compute the median along the specified axis. np.ptp([1,5,2,3,4])\n",
    "Standard deviation is the square root of the average of squared deviations from mean. The function used for this i np.std().  np.std([1,2,3,4])\n",
    "\n",
    "Variance is the average of squared deviations, i.e., mean(abs(x - x.mean())**2).\n",
    "\n",
    "Or, standard deviation is the square root of variance. np.var([1,2,3,4])"
   ]
  },
  {
   "cell_type": "code",
   "execution_count": 7,
   "id": "dbb6a43c",
   "metadata": {},
   "outputs": [],
   "source": [
    "import numpy as np\n",
    "arr = np.arange(0,10)"
   ]
  },
  {
   "cell_type": "code",
   "execution_count": 8,
   "id": "ecc61075",
   "metadata": {},
   "outputs": [
    {
     "data": {
      "text/plain": [
       "array([ 0,  2,  4,  6,  8, 10, 12, 14, 16, 18])"
      ]
     },
     "execution_count": 8,
     "metadata": {},
     "output_type": "execute_result"
    }
   ],
   "source": [
    "arr + arr"
   ]
  },
  {
   "cell_type": "code",
   "execution_count": 10,
   "id": "edf43fe0",
   "metadata": {},
   "outputs": [
    {
     "data": {
      "text/plain": [
       "array([ 0,  1,  4,  9, 16, 25, 36, 49, 64, 81])"
      ]
     },
     "execution_count": 10,
     "metadata": {},
     "output_type": "execute_result"
    }
   ],
   "source": [
    "arr * arr\n"
   ]
  },
  {
   "cell_type": "code",
   "execution_count": 11,
   "id": "6268031e",
   "metadata": {},
   "outputs": [
    {
     "data": {
      "text/plain": [
       "array([0, 0, 0, 0, 0, 0, 0, 0, 0, 0])"
      ]
     },
     "execution_count": 11,
     "metadata": {},
     "output_type": "execute_result"
    }
   ],
   "source": [
    "arr - arr"
   ]
  },
  {
   "cell_type": "code",
   "execution_count": 12,
   "id": "dc15243f",
   "metadata": {},
   "outputs": [
    {
     "name": "stderr",
     "output_type": "stream",
     "text": [
      "C:\\Users\\HP\\AppData\\Local\\Temp\\ipykernel_14900\\2878212635.py:3: RuntimeWarning: invalid value encountered in divide\n",
      "  arr/arr\n"
     ]
    },
    {
     "data": {
      "text/plain": [
       "array([nan,  1.,  1.,  1.,  1.,  1.,  1.,  1.,  1.,  1.])"
      ]
     },
     "execution_count": 12,
     "metadata": {},
     "output_type": "execute_result"
    }
   ],
   "source": [
    "# Warning on division by zero, but not an error!\n",
    "# Just replaced with nan\n",
    "arr/arr"
   ]
  },
  {
   "cell_type": "code",
   "execution_count": 13,
   "id": "0ba08937",
   "metadata": {},
   "outputs": [
    {
     "name": "stderr",
     "output_type": "stream",
     "text": [
      "C:\\Users\\HP\\AppData\\Local\\Temp\\ipykernel_14900\\1360216608.py:2: RuntimeWarning: divide by zero encountered in divide\n",
      "  1/arr\n"
     ]
    },
    {
     "data": {
      "text/plain": [
       "array([       inf, 1.        , 0.5       , 0.33333333, 0.25      ,\n",
       "       0.2       , 0.16666667, 0.14285714, 0.125     , 0.11111111])"
      ]
     },
     "execution_count": 13,
     "metadata": {},
     "output_type": "execute_result"
    }
   ],
   "source": [
    "# Also warning, but not an error instead infinity\n",
    "1/arr"
   ]
  },
  {
   "cell_type": "code",
   "execution_count": 14,
   "id": "ff3998da",
   "metadata": {},
   "outputs": [
    {
     "data": {
      "text/plain": [
       "array([  0,   1,   8,  27,  64, 125, 216, 343, 512, 729], dtype=int32)"
      ]
     },
     "execution_count": 14,
     "metadata": {},
     "output_type": "execute_result"
    }
   ],
   "source": [
    "arr**3"
   ]
  },
  {
   "cell_type": "code",
   "execution_count": 15,
   "id": "5fccd307",
   "metadata": {},
   "outputs": [
    {
     "data": {
      "text/plain": [
       "3.0"
      ]
     },
     "execution_count": 15,
     "metadata": {},
     "output_type": "execute_result"
    }
   ],
   "source": [
    "np.mean([1,2,3,4,5])"
   ]
  },
  {
   "cell_type": "code",
   "execution_count": 16,
   "id": "9465acf6",
   "metadata": {},
   "outputs": [
    {
     "data": {
      "text/plain": [
       "3.0"
      ]
     },
     "execution_count": 16,
     "metadata": {},
     "output_type": "execute_result"
    }
   ],
   "source": [
    " np.median([1,5,2,3,4])"
   ]
  },
  {
   "cell_type": "code",
   "execution_count": 17,
   "id": "193221ea",
   "metadata": {},
   "outputs": [
    {
     "data": {
      "text/plain": [
       "4"
      ]
     },
     "execution_count": 17,
     "metadata": {},
     "output_type": "execute_result"
    }
   ],
   "source": [
    "np.ptp([1,5,2,3,4])"
   ]
  },
  {
   "cell_type": "code",
   "execution_count": 19,
   "id": "55a2a41b",
   "metadata": {},
   "outputs": [
    {
     "data": {
      "text/plain": [
       "1.118033988749895"
      ]
     },
     "execution_count": 19,
     "metadata": {},
     "output_type": "execute_result"
    }
   ],
   "source": [
    " np.std([1,2,3,4])"
   ]
  },
  {
   "cell_type": "code",
   "execution_count": 28,
   "id": "954797b3",
   "metadata": {},
   "outputs": [
    {
     "data": {
      "text/plain": [
       "1.25"
      ]
     },
     "execution_count": 28,
     "metadata": {},
     "output_type": "execute_result"
    }
   ],
   "source": [
    "np.var([1,2,3,4])"
   ]
  },
  {
   "cell_type": "code",
   "execution_count": 29,
   "id": "dd6d3561",
   "metadata": {},
   "outputs": [
    {
     "name": "stdout",
     "output_type": "stream",
     "text": [
      "3.75\n"
     ]
    }
   ],
   "source": [
    "\n",
    "x =np.array([1,2,3,4])\n",
    "a= np.mean(abs(x-x.mean()**2))\n",
    "print(a)"
   ]
  },
  {
   "cell_type": "code",
   "execution_count": null,
   "id": "1bd2debe",
   "metadata": {},
   "outputs": [],
   "source": []
  },
  {
   "cell_type": "code",
   "execution_count": null,
   "id": "9f14ebe6",
   "metadata": {},
   "outputs": [],
   "source": []
  }
 ],
 "metadata": {
  "kernelspec": {
   "display_name": "Python 3 (ipykernel)",
   "language": "python",
   "name": "python3"
  },
  "language_info": {
   "codemirror_mode": {
    "name": "ipython",
    "version": 3
   },
   "file_extension": ".py",
   "mimetype": "text/x-python",
   "name": "python",
   "nbconvert_exporter": "python",
   "pygments_lexer": "ipython3",
   "version": "3.11.3"
  }
 },
 "nbformat": 4,
 "nbformat_minor": 5
}
