{
 "cells": [
  {
   "attachments": {},
   "cell_type": "markdown",
   "id": "1fb6e35b",
   "metadata": {},
   "source": [
    "# Continue with List \n",
    "1) POP Method:-"
   ]
  },
  {
   "cell_type": "code",
   "execution_count": 2,
   "id": "702fa544",
   "metadata": {},
   "outputs": [
    {
     "name": "stdout",
     "output_type": "stream",
     "text": [
      "['apple', 'cherry', 'apple', 'banana', 'cherry']\n"
     ]
    }
   ],
   "source": [
    "fruits = ['apple','banana','cherry','apple','banana','cherry',]\n",
    "fruits.remove(\"banana\")\n",
    "print(fruits)"
   ]
  },
  {
   "attachments": {},
   "cell_type": "markdown",
   "id": "753b9bd6",
   "metadata": {},
   "source": [
    "# # sort Method:-"
   ]
  },
  {
   "cell_type": "code",
   "execution_count": 4,
   "id": "2cbf3e6f",
   "metadata": {},
   "outputs": [
    {
     "name": "stdout",
     "output_type": "stream",
     "text": [
      "['BMW', 'Ford', 'Volvo']\n"
     ]
    }
   ],
   "source": [
    "cars = ['Ford','BMW',\"Volvo\"]\n",
    "cars.sort()           # The words will be arrange in aplhabetical order.\n",
    "print(cars)"
   ]
  },
  {
   "attachments": {},
   "cell_type": "markdown",
   "id": "d9d81aea",
   "metadata": {},
   "source": [
    "# Split Method\n",
    "\n",
    "It split the sentence into words by seperating them in interverted commas"
   ]
  },
  {
   "cell_type": "code",
   "execution_count": 5,
   "id": "5df13c76",
   "metadata": {},
   "outputs": [
    {
     "name": "stdout",
     "output_type": "stream",
     "text": [
      "Enter the word:I love pyhton programming language\n"
     ]
    }
   ],
   "source": [
    "text = input(\"Enter the word:\")  # To take the input from the user input keyword and split into single word "
   ]
  },
  {
   "cell_type": "code",
   "execution_count": 7,
   "id": "a1d09874",
   "metadata": {},
   "outputs": [
    {
     "data": {
      "text/plain": [
       "['I', 'love', 'pyhton', 'programming', 'language']"
      ]
     },
     "execution_count": 7,
     "metadata": {},
     "output_type": "execute_result"
    }
   ],
   "source": [
    "text.split()"
   ]
  },
  {
   "attachments": {},
   "cell_type": "markdown",
   "id": "3ba517c1",
   "metadata": {},
   "source": [
    "# Pyton Tuples\n",
    "## Tuples are Immutable datatypes(unchangeable)\n",
    "##  A tuple is another sequence data type that is similar to the list."
   ]
  },
  {
   "cell_type": "code",
   "execution_count": 8,
   "id": "96d8c159",
   "metadata": {},
   "outputs": [
    {
     "name": "stdout",
     "output_type": "stream",
     "text": [
      "('parul', 22, 'Bharat', 45.5, 'vadodara', 99)\n",
      "<class 'tuple'>\n"
     ]
    }
   ],
   "source": [
    "# create a tuple:-\n",
    "\n",
    "tup1 = \"parul\",22,\"Bharat\",45.5,\"vadodara\",99\n",
    "print(tup1)\n",
    "print(type(tup1))"
   ]
  },
  {
   "cell_type": "code",
   "execution_count": 9,
   "id": "3e049f49",
   "metadata": {},
   "outputs": [
    {
     "data": {
      "text/plain": [
       "'vadodara'"
      ]
     },
     "execution_count": 9,
     "metadata": {},
     "output_type": "execute_result"
    }
   ],
   "source": [
    "tup1[4]"
   ]
  },
  {
   "cell_type": "code",
   "execution_count": 10,
   "id": "6087c567",
   "metadata": {},
   "outputs": [
    {
     "data": {
      "text/plain": [
       "('Bharat', 45.5)"
      ]
     },
     "execution_count": 10,
     "metadata": {},
     "output_type": "execute_result"
    }
   ],
   "source": [
    "tup1[2:4]"
   ]
  },
  {
   "cell_type": "code",
   "execution_count": 11,
   "id": "3fbcfb46",
   "metadata": {},
   "outputs": [
    {
     "data": {
      "text/plain": [
       "'Bh'"
      ]
     },
     "execution_count": 11,
     "metadata": {},
     "output_type": "execute_result"
    }
   ],
   "source": [
    "tup1[2][0:2]   # here we first choose index and on them we do slicing "
   ]
  },
  {
   "cell_type": "code",
   "execution_count": 12,
   "id": "6707586b",
   "metadata": {},
   "outputs": [
    {
     "name": "stdout",
     "output_type": "stream",
     "text": [
      "('parul', 22, 'Bharat', 45.5, 'vadodara', 99, 'Pyhton', 87)\n"
     ]
    }
   ],
   "source": [
    "tup2 = (\"Pyhton\", 87) # Here we are doing concentation\n",
    "tup3 = tup1 +tup2\n",
    "print(tup3)"
   ]
  },
  {
   "cell_type": "code",
   "execution_count": 19,
   "id": "3f3fa8d9",
   "metadata": {},
   "outputs": [
    {
     "name": "stdout",
     "output_type": "stream",
     "text": [
      "('A', 'd', 'i', 't', 'y', 'a', 'A', 'd', 'i', 't', 'y', 'a', 'A', 'd', 'i', 't', 'y', 'a', 'A', 'd', 'i', 't', 'y', 'a', 'A', 'd', 'i', 't', 'y', 'a', 'A', 'd', 'i', 't', 'y', 'a', 'A', 'd', 'i', 't', 'y', 'a', 'A', 'd', 'i', 't', 'y', 'a', 'A', 'd', 'i', 't', 'y', 'a')"
     ]
    }
   ],
   "source": [
    "tup=tuple(\"Aditya\" * 9)\n",
    "print(tup, end=\"\")\n",
    "\n"
   ]
  },
  {
   "cell_type": "code",
   "execution_count": 15,
   "id": "42045162",
   "metadata": {},
   "outputs": [
    {
     "ename": "TypeError",
     "evalue": "'tuple' object doesn't support item deletion",
     "output_type": "error",
     "traceback": [
      "\u001b[1;31m---------------------------------------------------------------------------\u001b[0m",
      "\u001b[1;31mTypeError\u001b[0m                                 Traceback (most recent call last)",
      "Cell \u001b[1;32mIn[15], line 1\u001b[0m\n\u001b[1;32m----> 1\u001b[0m \u001b[38;5;28;01mdel\u001b[39;00m tup3[\u001b[38;5;241m3\u001b[39m]\n\u001b[0;32m      2\u001b[0m \u001b[38;5;28mprint\u001b[39m(tup3)\n",
      "\u001b[1;31mTypeError\u001b[0m: 'tuple' object doesn't support item deletion"
     ]
    }
   ],
   "source": [
    "del tup3[3]  # tuple is immutlabe so we can't delete the element of the tuple\n",
    "print(tup3)\n",
    "\n",
    "# but we can delete the whole tuple it is possible."
   ]
  },
  {
   "attachments": {},
   "cell_type": "markdown",
   "id": "8456f79d",
   "metadata": {},
   "source": [
    "# Count Method\n",
    "\n",
    "## Returns the number of times a specified value occurs in a tuple\n"
   ]
  },
  {
   "cell_type": "code",
   "execution_count": 21,
   "id": "f43dd270",
   "metadata": {},
   "outputs": [
    {
     "name": "stdout",
     "output_type": "stream",
     "text": [
      "2\n"
     ]
    }
   ],
   "source": [
    "numbers = (1,3,7,8,7,5,4,6,8,5)\n",
    "\n",
    "x=numbers.count(5)  # 5 is the element in tuple\n",
    "\n",
    "print(x)"
   ]
  },
  {
   "attachments": {},
   "cell_type": "markdown",
   "id": "96be7fe4",
   "metadata": {},
   "source": [
    "# Index \n",
    "\n",
    "## Seaches the tuples for a specified value and returns the position of where it was found"
   ]
  },
  {
   "cell_type": "code",
   "execution_count": 23,
   "id": "f0240567",
   "metadata": {},
   "outputs": [
    {
     "name": "stdout",
     "output_type": "stream",
     "text": [
      "3\n"
     ]
    }
   ],
   "source": [
    "numbers = (1,3,7,8,7,5,4,6,8,5)\n",
    "x = numbers.index(8)\n",
    "print(x)"
   ]
  },
  {
   "attachments": {},
   "cell_type": "markdown",
   "id": "09c0f608",
   "metadata": {},
   "source": [
    "# Python Dictionary\n",
    "\n",
    "### Dictionary are used to data values in key:values pairs.\n",
    "### Dictionary are written with curly brackets."
   ]
  },
  {
   "cell_type": "code",
   "execution_count": 26,
   "id": "bb3d4776",
   "metadata": {},
   "outputs": [
    {
     "name": "stdout",
     "output_type": "stream",
     "text": [
      "{'Brand': 'Mahindra', 'Model': 'Thar', 'Year': 20120}\n",
      "<class 'dict'>\n"
     ]
    }
   ],
   "source": [
    "cars = {\n",
    "    \"Brand\":\"Mahindra\",\n",
    "    \"Model\": \"Thar\",\n",
    "    \"Year\": 20120\n",
    "    \n",
    "}\n",
    "\n",
    "print(cars)\n",
    "print(type(cars))"
   ]
  },
  {
   "cell_type": "code",
   "execution_count": 29,
   "id": "a04c8c5f",
   "metadata": {},
   "outputs": [
    {
     "name": "stdout",
     "output_type": "stream",
     "text": [
      "Mahindra\n"
     ]
    }
   ],
   "source": [
    "print(cars[\"Brand\"])"
   ]
  },
  {
   "cell_type": "code",
   "execution_count": 31,
   "id": "2bbf5787",
   "metadata": {},
   "outputs": [
    {
     "name": "stdout",
     "output_type": "stream",
     "text": [
      "dict_keys(['Brand', 'Model', 'Year'])\n"
     ]
    }
   ],
   "source": [
    "#Accessing Method\n",
    "\n",
    "print(cars.keys())   # It will print all the keys present in the dictionary"
   ]
  },
  {
   "cell_type": "code",
   "execution_count": 33,
   "id": "de455568",
   "metadata": {},
   "outputs": [
    {
     "name": "stdout",
     "output_type": "stream",
     "text": [
      "dict_values(['Mahindra', 'Thar', 20120])\n"
     ]
    }
   ],
   "source": [
    "print(cars.values())  # It will print all the values present in the dictionary"
   ]
  },
  {
   "cell_type": "code",
   "execution_count": 36,
   "id": "4e0c0130",
   "metadata": {},
   "outputs": [
    {
     "name": "stdout",
     "output_type": "stream",
     "text": [
      "dict_items([('Brand', 'Mahindra'), ('Model', 'Thar'), ('Year', 20120)])\n"
     ]
    }
   ],
   "source": [
    "print(cars.items())   # if want to see all the key:value pairs in the dictionary "
   ]
  },
  {
   "attachments": {},
   "cell_type": "markdown",
   "id": "d2b629fb",
   "metadata": {},
   "source": [
    "# Update Method\n",
    "\n",
    "## The update( ) method will update the dictionary with the items form the given argument."
   ]
  },
  {
   "cell_type": "code",
   "execution_count": 41,
   "id": "be734d2f",
   "metadata": {},
   "outputs": [
    {
     "data": {
      "text/plain": [
       "{'Brand': 'Mahindra',\n",
       " 'Model': 'Thar',\n",
       " 'Year': 20120,\n",
       " 'color': 'black',\n",
       " 'year': 2022}"
      ]
     },
     "execution_count": 41,
     "metadata": {},
     "output_type": "execute_result"
    }
   ],
   "source": [
    "cars.update({\"year\":2022})\n",
    "cars"
   ]
  },
  {
   "cell_type": "code",
   "execution_count": 53,
   "id": "67e2d8da",
   "metadata": {},
   "outputs": [
    {
     "name": "stdout",
     "output_type": "stream",
     "text": [
      "{'Brand': 'Mahindra', 'Year': 20120, 'color': 'black', 'year': 2022}\n"
     ]
    }
   ],
   "source": [
    "## Adding Items\n",
    "\n",
    "cars[\"color\"] = \"black\"   # To add key-value pair\n",
    "print(cars)"
   ]
  },
  {
   "attachments": {},
   "cell_type": "markdown",
   "id": "759d7ba3",
   "metadata": {},
   "source": [
    "# Removing items"
   ]
  },
  {
   "cell_type": "code",
   "execution_count": 55,
   "id": "1d094d13",
   "metadata": {},
   "outputs": [
    {
     "data": {
      "text/plain": [
       "{'Year': 20120, 'color': 'black', 'year': 2022}"
      ]
     },
     "execution_count": 55,
     "metadata": {},
     "output_type": "execute_result"
    }
   ],
   "source": [
    "cars.pop(\"Brand\")\n",
    "cars"
   ]
  },
  {
   "attachments": {},
   "cell_type": "markdown",
   "id": "272feb73",
   "metadata": {},
   "source": [
    "## Sets \n",
    "\n",
    "## non-changleable and immutable"
   ]
  },
  {
   "cell_type": "code",
   "execution_count": 57,
   "id": "0b16ca0f",
   "metadata": {},
   "outputs": [
    {
     "name": "stdout",
     "output_type": "stream",
     "text": [
      "{'Chemistry', 'Physic', 'Hindi', 'maths'}\n",
      "<class 'set'>\n"
     ]
    }
   ],
   "source": [
    "subjects1 = {'Physic', 'Hindi', 'Chemistry','maths','Hindi'}\n",
    "print(subjects1)\n",
    "print(type(subjects1))"
   ]
  },
  {
   "cell_type": "code",
   "execution_count": 59,
   "id": "5ebf0bd1",
   "metadata": {},
   "outputs": [
    {
     "name": "stdout",
     "output_type": "stream",
     "text": [
      "{'Social Science', 'History', 'Hindi', 'Biology'}\n"
     ]
    }
   ],
   "source": [
    "subjects2 = {'History', 'Social Science', 'Biology','Hindi'}\n",
    "print(subjects2)"
   ]
  },
  {
   "cell_type": "code",
   "execution_count": 60,
   "id": "971b7f1a",
   "metadata": {},
   "outputs": [
    {
     "data": {
      "text/plain": [
       "{'Biology',\n",
       " 'Chemistry',\n",
       " 'Hindi',\n",
       " 'History',\n",
       " 'Physic',\n",
       " 'Social Science',\n",
       " 'maths'}"
      ]
     },
     "execution_count": 60,
     "metadata": {},
     "output_type": "execute_result"
    }
   ],
   "source": [
    "# union of two sets\n",
    "\n",
    "subjects1 | subjects2  # This pipe symbol used to make union of two sets"
   ]
  },
  {
   "cell_type": "code",
   "execution_count": 61,
   "id": "7e2f745c",
   "metadata": {},
   "outputs": [
    {
     "data": {
      "text/plain": [
       "{'Biology',\n",
       " 'Chemistry',\n",
       " 'Hindi',\n",
       " 'History',\n",
       " 'Physic',\n",
       " 'Social Science',\n",
       " 'maths'}"
      ]
     },
     "execution_count": 61,
     "metadata": {},
     "output_type": "execute_result"
    }
   ],
   "source": [
    "subjects1.union(subjects2)  # This another method to make union of two sets"
   ]
  },
  {
   "cell_type": "code",
   "execution_count": 63,
   "id": "c14deb23",
   "metadata": {},
   "outputs": [
    {
     "data": {
      "text/plain": [
       "{'Hindi'}"
      ]
     },
     "execution_count": 63,
     "metadata": {},
     "output_type": "execute_result"
    }
   ],
   "source": [
    "# Intersection of two sets\n",
    "\n",
    "subjects1.intersection(subjects2)   # To find the common items in both the sets"
   ]
  },
  {
   "attachments": {},
   "cell_type": "markdown",
   "id": "098c3ec4",
   "metadata": {},
   "source": [
    "# Python Built in Functions in data types\n",
    "# 1. Len Function\n"
   ]
  },
  {
   "cell_type": "code",
   "execution_count": 65,
   "id": "80a81d31",
   "metadata": {},
   "outputs": [
    {
     "data": {
      "text/plain": [
       "3"
      ]
     },
     "execution_count": 65,
     "metadata": {},
     "output_type": "execute_result"
    }
   ],
   "source": [
    "fruits = ['apple','banana','cherry']\n",
    "len(fruits)"
   ]
  },
  {
   "cell_type": "code",
   "execution_count": 68,
   "id": "d3b00a63",
   "metadata": {},
   "outputs": [
    {
     "data": {
      "text/plain": [
       "6"
      ]
     },
     "execution_count": 68,
     "metadata": {},
     "output_type": "execute_result"
    }
   ],
   "source": [
    "len(fruits[2])  # if we want to find the specified element length "
   ]
  },
  {
   "attachments": {},
   "cell_type": "markdown",
   "id": "20bcf231",
   "metadata": {},
   "source": [
    "# 2. Sorted Function"
   ]
  },
  {
   "cell_type": "code",
   "execution_count": 70,
   "id": "b422e1e1",
   "metadata": {},
   "outputs": [
    {
     "data": {
      "text/plain": [
       "['Actor', 'Movie', 'year']"
      ]
     },
     "execution_count": 70,
     "metadata": {},
     "output_type": "execute_result"
    }
   ],
   "source": [
    "theater = {\n",
    "    \"Movie\":\"Pushpa\",\n",
    "    \"Actor\":\"Allu Arjun\",\n",
    "    \"year\":2021\n",
    "}\n",
    "sorted(theater)"
   ]
  },
  {
   "attachments": {},
   "cell_type": "markdown",
   "id": "2d76988d",
   "metadata": {},
   "source": [
    "# 3. Max Function"
   ]
  },
  {
   "cell_type": "code",
   "execution_count": 72,
   "id": "01bcc2e0",
   "metadata": {},
   "outputs": [
    {
     "data": {
      "text/plain": [
       "8"
      ]
     },
     "execution_count": 72,
     "metadata": {},
     "output_type": "execute_result"
    }
   ],
   "source": [
    "numbers = [1,3,7,8,7,5,4,6,8,5]\n",
    "max(numbers)"
   ]
  },
  {
   "attachments": {},
   "cell_type": "markdown",
   "id": "09f9713c",
   "metadata": {},
   "source": [
    "# 4. Sum Function"
   ]
  },
  {
   "cell_type": "code",
   "execution_count": 74,
   "id": "4971a648",
   "metadata": {},
   "outputs": [
    {
     "data": {
      "text/plain": [
       "54"
      ]
     },
     "execution_count": 74,
     "metadata": {},
     "output_type": "execute_result"
    }
   ],
   "source": [
    "numbers = [1,3,7,8,7,5,4,6,8,5]\n",
    "sum(numbers)"
   ]
  },
  {
   "attachments": {},
   "cell_type": "markdown",
   "id": "402a261f",
   "metadata": {},
   "source": [
    "# 5. Dir Function\n",
    "\n",
    "## Retrun  a methods in datatypes"
   ]
  },
  {
   "cell_type": "code",
   "execution_count": 77,
   "id": "1c1b5ffb",
   "metadata": {},
   "outputs": [
    {
     "name": "stdout",
     "output_type": "stream",
     "text": [
      "['__add__', '__class__', '__class_getitem__', '__contains__', '__delattr__', '__delitem__', '__dir__', '__doc__', '__eq__', '__format__', '__ge__', '__getattribute__', '__getitem__', '__getstate__', '__gt__', '__hash__', '__iadd__', '__imul__', '__init__', '__init_subclass__', '__iter__', '__le__', '__len__', '__lt__', '__mul__', '__ne__', '__new__', '__reduce__', '__reduce_ex__', '__repr__', '__reversed__', '__rmul__', '__setattr__', '__setitem__', '__sizeof__', '__str__', '__subclasshook__', 'append', 'clear', 'copy', 'count', 'extend', 'index', 'insert', 'pop', 'remove', 'reverse', 'sort']"
     ]
    }
   ],
   "source": [
    "a=dir(list)\n",
    "print(a,end=\"\")"
   ]
  },
  {
   "cell_type": "code",
   "execution_count": 1,
   "id": "6a70f37b",
   "metadata": {},
   "outputs": [
    {
     "name": "stdout",
     "output_type": "stream",
     "text": [
      "['__add__', '__class__', '__contains__', '__delattr__', '__dir__', '__doc__', '__eq__', '__format__', '__ge__', '__getattribute__', '__getitem__', '__getnewargs__', '__getstate__', '__gt__', '__hash__', '__init__', '__init_subclass__', '__iter__', '__le__', '__len__', '__lt__', '__mod__', '__mul__', '__ne__', '__new__', '__reduce__', '__reduce_ex__', '__repr__', '__rmod__', '__rmul__', '__setattr__', '__sizeof__', '__str__', '__subclasshook__', 'capitalize', 'casefold', 'center', 'count', 'encode', 'endswith', 'expandtabs', 'find', 'format', 'format_map', 'index', 'isalnum', 'isalpha', 'isascii', 'isdecimal', 'isdigit', 'isidentifier', 'islower', 'isnumeric', 'isprintable', 'isspace', 'istitle', 'isupper', 'join', 'ljust', 'lower', 'lstrip', 'maketrans', 'partition', 'removeprefix', 'removesuffix', 'replace', 'rfind', 'rindex', 'rjust', 'rpartition', 'rsplit', 'rstrip', 'split', 'splitlines', 'startswith', 'strip', 'swapcase', 'title', 'translate', 'upper', 'zfill']"
     ]
    }
   ],
   "source": [
    "a=dir(str)\n",
    "print(a,end=\"\")"
   ]
  },
  {
   "attachments": {},
   "cell_type": "markdown",
   "id": "f84a81be",
   "metadata": {},
   "source": [
    "# Typecasting\n"
   ]
  },
  {
   "cell_type": "code",
   "execution_count": 3,
   "id": "026e6f89",
   "metadata": {},
   "outputs": [
    {
     "name": "stdout",
     "output_type": "stream",
     "text": [
      "<class 'int'>\n",
      "<class 'float'>\n"
     ]
    }
   ],
   "source": [
    "n = 10  # integer\n",
    "print(type(n))\n",
    "\n",
    "n=float(n)  # converted into float\n",
    "print(type(n))"
   ]
  },
  {
   "cell_type": "code",
   "execution_count": 5,
   "id": "8fb3e0c4",
   "metadata": {},
   "outputs": [
    {
     "name": "stdout",
     "output_type": "stream",
     "text": [
      "<class 'str'>\n"
     ]
    }
   ],
   "source": [
    "n =10              # Integer\n",
    "n =str(n)\n",
    "print(type(n))   # converted to string\n"
   ]
  },
  {
   "cell_type": "code",
   "execution_count": 9,
   "id": "ff96bc02",
   "metadata": {},
   "outputs": [
    {
     "name": "stdout",
     "output_type": "stream",
     "text": [
      "<class 'list'>\n",
      "<class 'tuple'>\n",
      "('apple', 'banana', 'cherry')\n"
     ]
    }
   ],
   "source": [
    "fruits = ['apple','banana','cherry']  # List\n",
    "print(type(fruits))\n",
    "\n",
    "fruits = tuple(fruits)    # converted to tuple\n",
    "print(type(fruits))\n",
    "print(fruits)      # converted into list"
   ]
  },
  {
   "attachments": {},
   "cell_type": "markdown",
   "id": "5ed90c06",
   "metadata": {},
   "source": [
    "# Exercise \n",
    "\n",
    "1. Create an empty list called fruits_list.\n",
    "2. Add \"apple\", \"banana\", \"orange\", \"grape\", and \"mango\" to the fruits_list.\n",
    "3. Print the first, last, and second & third fruits in the list using slicing.\n",
    "4. Print the number of fruits in the list.\n",
    "5. Replace the third fruit with \"pear\" in the list.\n",
    "6. Check if \"apple\" is present in the fruits_list and print the result.\n",
    "7. Remove \"banana\" and the last fruit from the list.\n",
    "8. Create another list additional_fruits with \"watermelon\" and \"kiwi\", then concatenate it with fruits_list.\n",
    "9. Sort the fruits_list in alphabetical order.\n",
    "10. Count the number of times \"kiwi\" appears in the fruits_list."
   ]
  },
  {
   "cell_type": "code",
   "execution_count": 2,
   "id": "c1cdbce7",
   "metadata": {},
   "outputs": [
    {
     "name": "stdout",
     "output_type": "stream",
     "text": [
      "['apple', 'banana', 'orange', 'grape', 'mango']\n"
     ]
    }
   ],
   "source": [
    "# 1. Create an empty list called fruits_list.\n",
    "fruits_list = []\n",
    "# 2. Add \"apple\", \"banana\", \"orange\", \"grape\", and \"mango\" to the fruits_list.\n",
    "new_items = [\"apple\", \"banana\", \"orange\", \"grape\",\"mango\"]\n",
    "for item in new_items:\n",
    "    fruits_list.append(item)\n",
    "print(fruits_list)"
   ]
  },
  {
   "cell_type": "code",
   "execution_count": 15,
   "id": "54e9593d",
   "metadata": {},
   "outputs": [
    {
     "data": {
      "text/plain": [
       "'apple'"
      ]
     },
     "execution_count": 15,
     "metadata": {},
     "output_type": "execute_result"
    }
   ],
   "source": [
    "# first fruit using slicing\n",
    "fruits_list[0]\n",
    "\n"
   ]
  },
  {
   "cell_type": "code",
   "execution_count": 16,
   "id": "30a726d5",
   "metadata": {},
   "outputs": [
    {
     "data": {
      "text/plain": [
       "'orange'"
      ]
     },
     "execution_count": 16,
     "metadata": {},
     "output_type": "execute_result"
    }
   ],
   "source": [
    "# Second fruit using slicing\n",
    "fruits_list[2]\n"
   ]
  },
  {
   "cell_type": "code",
   "execution_count": 17,
   "id": "fdc554ce",
   "metadata": {},
   "outputs": [
    {
     "data": {
      "text/plain": [
       "['orange', 'grape']"
      ]
     },
     "execution_count": 17,
     "metadata": {},
     "output_type": "execute_result"
    }
   ],
   "source": [
    "# second and third string using slicing\n",
    "fruits_list[2:4]"
   ]
  },
  {
   "attachments": {},
   "cell_type": "markdown",
   "id": "79fccd90",
   "metadata": {},
   "source": [
    "# 4. Print the number of fruits in the list."
   ]
  },
  {
   "cell_type": "code",
   "execution_count": 19,
   "id": "824b2fc1",
   "metadata": {},
   "outputs": [
    {
     "data": {
      "text/plain": [
       "5"
      ]
     },
     "execution_count": 19,
     "metadata": {},
     "output_type": "execute_result"
    }
   ],
   "source": [
    "len(fruits_list)"
   ]
  },
  {
   "attachments": {},
   "cell_type": "markdown",
   "id": "2c935466",
   "metadata": {},
   "source": [
    "# 5.Replace the third fruit with \"pear\" in the list."
   ]
  },
  {
   "cell_type": "code",
   "execution_count": 31,
   "id": "294ca987",
   "metadata": {},
   "outputs": [
    {
     "name": "stdout",
     "output_type": "stream",
     "text": [
      "['apple', 'orange', 'pear', 'pear']\n"
     ]
    }
   ],
   "source": [
    "fruits_list[3] = \"pear\"\n",
    "print(fruits_list)"
   ]
  },
  {
   "attachments": {},
   "cell_type": "markdown",
   "id": "e1a373e0",
   "metadata": {},
   "source": [
    "# 6. Check if \"apple\" is present in the fruits_list and print the result."
   ]
  },
  {
   "cell_type": "code",
   "execution_count": 29,
   "id": "7b5ea2a8",
   "metadata": {},
   "outputs": [
    {
     "name": "stdout",
     "output_type": "stream",
     "text": [
      "exist\n"
     ]
    }
   ],
   "source": [
    "i = \"apple\"\n",
    "if i in fruits_list: \n",
    "    print(\"exist\") \n",
    "else: \n",
    "    print(\"not exist\")"
   ]
  },
  {
   "attachments": {},
   "cell_type": "markdown",
   "id": "f8a96a00",
   "metadata": {},
   "source": [
    "# 7.Remove \"banana\" and the last fruit from the list."
   ]
  },
  {
   "cell_type": "code",
   "execution_count": 33,
   "id": "00a24dda",
   "metadata": {},
   "outputs": [
    {
     "data": {
      "text/plain": [
       "['apple', 'orange', 'grape', 'mango']"
      ]
     },
     "execution_count": 33,
     "metadata": {},
     "output_type": "execute_result"
    }
   ],
   "source": [
    "fruits_list=['apple', 'banana', 'orange', 'grape', 'mango']\n",
    "fruits_list.remove(\"banana\")\n",
    "fruits_list\n"
   ]
  },
  {
   "attachments": {},
   "cell_type": "markdown",
   "id": "81c3eec4",
   "metadata": {},
   "source": [
    "# 8. Create another list additional_fruits with \"watermelon\" and \"kiwi\", then concatenate it with fruits_list."
   ]
  },
  {
   "cell_type": "code",
   "execution_count": 35,
   "id": "74cfaf42",
   "metadata": {},
   "outputs": [
    {
     "data": {
      "text/plain": [
       "['apple', 'orange', 'grape', 'mango', 'watermelon', 'kiwi']"
      ]
     },
     "execution_count": 35,
     "metadata": {},
     "output_type": "execute_result"
    }
   ],
   "source": [
    "additonal_fruits=[\"watermelon\",\"kiwi\"]\n",
    "fruits_list = fruits_list + additonal_fruits\n",
    "fruits_list"
   ]
  },
  {
   "attachments": {},
   "cell_type": "markdown",
   "id": "80b2f2d1",
   "metadata": {},
   "source": [
    " # 9.Sort the fruits_list in alphabetical order."
   ]
  },
  {
   "cell_type": "code",
   "execution_count": 38,
   "id": "dcb2e454",
   "metadata": {},
   "outputs": [
    {
     "data": {
      "text/plain": [
       "['apple', 'grape', 'kiwi', 'mango', 'orange', 'watermelon']"
      ]
     },
     "execution_count": 38,
     "metadata": {},
     "output_type": "execute_result"
    }
   ],
   "source": [
    "fruits_list.sort()\n",
    "fruits_list\n"
   ]
  },
  {
   "attachments": {},
   "cell_type": "markdown",
   "id": "b37d04ec",
   "metadata": {},
   "source": [
    "# 10. Count the number of times \"kiwi\" appears in the fruits_list."
   ]
  },
  {
   "cell_type": "code",
   "execution_count": 40,
   "id": "f8541d0b",
   "metadata": {},
   "outputs": [
    {
     "data": {
      "text/plain": [
       "1"
      ]
     },
     "execution_count": 40,
     "metadata": {},
     "output_type": "execute_result"
    }
   ],
   "source": [
    "fruits_list.count(\"kiwi\")\n"
   ]
  },
  {
   "attachments": {},
   "cell_type": "markdown",
   "id": "10c34d78",
   "metadata": {},
   "source": [
    "# Function"
   ]
  },
  {
   "cell_type": "code",
   "execution_count": null,
   "id": "7aa10449",
   "metadata": {},
   "outputs": [],
   "source": []
  },
  {
   "cell_type": "code",
   "execution_count": 14,
   "id": "735c6d21",
   "metadata": {},
   "outputs": [],
   "source": [
    "def add_numbers(num1, num2):\n",
    "    result = num1 + num2\n",
    "    return result"
   ]
  },
  {
   "cell_type": "code",
   "execution_count": 18,
   "id": "16825550",
   "metadata": {},
   "outputs": [
    {
     "name": "stdout",
     "output_type": "stream",
     "text": [
      "9\n"
     ]
    }
   ],
   "source": [
    "a= add_numbers(4,5)\n",
    "print(a)\n"
   ]
  },
  {
   "attachments": {},
   "cell_type": "markdown",
   "id": "9421a7d5",
   "metadata": {},
   "source": [
    "# Python if Statement"
   ]
  },
  {
   "cell_type": "code",
   "execution_count": null,
   "id": "dcea49dc",
   "metadata": {},
   "outputs": [],
   "source": [
    "number =10\n",
    "#check if number is greater than 0\n",
    "if number >0:\n",
    "    print(\"Number is positive\")\n",
    "print(\"The if statement is easy\")"
   ]
  },
  {
   "attachments": {},
   "cell_type": "markdown",
   "id": "b7773018",
   "metadata": {},
   "source": [
    "# Python if...else Statement"
   ]
  },
  {
   "cell_type": "code",
   "execution_count": 25,
   "id": "a88b3c34",
   "metadata": {},
   "outputs": [
    {
     "name": "stdout",
     "output_type": "stream",
     "text": [
      "Negative number\n",
      "This statement is always executed\n"
     ]
    }
   ],
   "source": [
    "number =10\n",
    "if number>10:\n",
    "    print(\"Positive number\")\n",
    "else:\n",
    "    print(\"Negative number\")\n",
    "print(\"This statement is always executed\")"
   ]
  },
  {
   "attachments": {},
   "cell_type": "markdown",
   "id": "45467571",
   "metadata": {},
   "source": [
    "# Python Elif... Statement"
   ]
  },
  {
   "cell_type": "code",
   "execution_count": null,
   "id": "71f5d3ba",
   "metadata": {},
   "outputs": [
    {
     "name": "stdout",
     "output_type": "stream",
     "text": [
      "Enter Number: 2\n",
      "Positive number\n",
      "This statement is always executed\n"
     ]
    }
   ],
   "source": [
    "number = int(input(\"Enter Number: \"))\n",
    "if number>0:\n",
    "    print(\"Positive number\")\n",
    "elif number == 0:\n",
    "    print('Zero')\n",
    "    \n",
    "\n",
    "    print(\"Negative number\")\n",
    "print(\"This statement is always executed\")\n",
    "\n"
   ]
  }
 ],
 "metadata": {
  "kernelspec": {
   "display_name": "Python 3 (ipykernel)",
   "language": "python",
   "name": "python3"
  },
  "language_info": {
   "codemirror_mode": {
    "name": "ipython",
    "version": 3
   },
   "file_extension": ".py",
   "mimetype": "text/x-python",
   "name": "python",
   "nbconvert_exporter": "python",
   "pygments_lexer": "ipython3",
   "version": "3.11.3"
  }
 },
 "nbformat": 4,
 "nbformat_minor": 5
}
