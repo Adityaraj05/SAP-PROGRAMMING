{
 "cells": [
  {
   "cell_type": "markdown",
   "id": "729a07a7",
   "metadata": {},
   "source": [
    "## Data Analytics - Crash Course for Beginners"
   ]
  },
  {
   "cell_type": "markdown",
   "id": "9635446e",
   "metadata": {},
   "source": [
    "## Data Manipulation Using Pandas Library"
   ]
  },
  {
   "cell_type": "markdown",
   "id": "88a72adf",
   "metadata": {},
   "source": [
    "## Learning Objectives\n",
    "```\n",
    "Introduction to Pandas\n",
    "Installation of Pandas\n",
    "Pandas Objects\n",
    "Pandas Sort\n",
    "Working with Text Data\n",
    "Statistical Function\n",
    "Indexing and Selecting Data\n",
    "```"
   ]
  },
  {
   "cell_type": "markdown",
   "id": "29431527",
   "metadata": {},
   "source": [
    "## Introduction to Pandas\n",
    "```\n",
    "andas is an open-source Python library that uses powerful data structures to provide high-performance data manipulation and analysis.\n",
    "It provides a variety of data structures and operations for manipulating numerical data and time series.\n",
    "This library is based on the NumPy library.\n",
    "```"
   ]
  },
  {
   "cell_type": "markdown",
   "id": "7ea1e6f3",
   "metadata": {},
   "source": [
    "## Introducing Pandas Objects\n",
    "```\n",
    "Pandas objects can be thought of as enhanced versions of NumPy structured arrays in which the rows and columns are identified with labels rather than simple integer indices  ​\n",
    "There are three fundamental Pandas data structures:  ​\n",
    "Series​\n",
    "DataFrame ​\n",
    "Index.  ​\n",
    "```"
   ]
  },
  {
   "cell_type": "markdown",
   "id": "fce4c46c",
   "metadata": {},
   "source": [
    "## What is a Series?\n",
    "```\n",
    "Pandas Series is a labelled one-dimensional array that can hold any type of data (integer, string, float, Python objects, and so on).\n",
    "Pandas Series is simply a column in an Excel spreadsheet.\n",
    "Using the Series() method, we can easily convert a list, tuple, or dictionary into a Series.\n",
    "```"
   ]
  },
  {
   "cell_type": "markdown",
   "id": "6681df2c",
   "metadata": {},
   "source": [
    "## Creating a Series"
   ]
  },
  {
   "cell_type": "code",
   "execution_count": 4,
   "id": "fb81aa74",
   "metadata": {},
   "outputs": [],
   "source": [
    "import numpy as np\n",
    "import pandas as pd"
   ]
  },
  {
   "cell_type": "code",
   "execution_count": 5,
   "id": "9e35b5ee",
   "metadata": {},
   "outputs": [
    {
     "name": "stdout",
     "output_type": "stream",
     "text": [
      "Series([], dtype: float64)\n",
      "0    g\n",
      "1    e\n",
      "2    e\n",
      "3    k\n",
      "4    s\n",
      "dtype: object\n"
     ]
    },
    {
     "name": "stderr",
     "output_type": "stream",
     "text": [
      "C:\\Users\\HP\\AppData\\Local\\Temp\\ipykernel_15196\\2297544735.py:2: FutureWarning: The default dtype for empty Series will be 'object' instead of 'float64' in a future version. Specify a dtype explicitly to silence this warning.\n",
      "  ser = pd.Series()\n"
     ]
    }
   ],
   "source": [
    "# Creating empty series. \n",
    "ser = pd.Series()\n",
    "print(ser)\n",
    "# simple array\n",
    "data = np.array(['g', 'e', 'e', 'k', 's'])\n",
    "ser = pd.Series(data) \n",
    "print(ser)"
   ]
  },
  {
   "cell_type": "markdown",
   "id": "70f0d55d",
   "metadata": {},
   "source": [
    "## Creating a series from Lists:"
   ]
  },
  {
   "cell_type": "code",
   "execution_count": 6,
   "id": "90494b62",
   "metadata": {},
   "outputs": [
    {
     "name": "stdout",
     "output_type": "stream",
     "text": [
      "0    g\n",
      "1    e\n",
      "2    e\n",
      "3    k\n",
      "4    s\n",
      "dtype: object\n"
     ]
    }
   ],
   "source": [
    "import pandas as pd\n",
    "# a simple list\n",
    "list = ['g', 'e', 'e', 'k', 's']\n",
    "# create series form a list \n",
    "ser = pd.Series(list) \n",
    "print(ser)"
   ]
  },
  {
   "cell_type": "markdown",
   "id": "d121612b",
   "metadata": {},
   "source": [
    "## Pandas Index\n",
    "```\n",
    "Pandas Index is an efficient tool for extracting particular rows and columns of data from a DataFrame.\n",
    "Its job is to organise data and make it easily accessible.\n",
    "We can also define an index, similar to an address, through which we can access any data in the Series or DataFrame.  \n",
    "```"
   ]
  },
  {
   "cell_type": "markdown",
   "id": "5c86a912",
   "metadata": {},
   "source": [
    "## Creating index\n",
    "Creating index\n",
    "First, we have to take a csv file that consist some data used for indexing."
   ]
  },
  {
   "cell_type": "code",
   "execution_count": 2,
   "id": "64b177e7",
   "metadata": {},
   "outputs": [
    {
     "data": {
      "text/html": [
       "<div>\n",
       "<style scoped>\n",
       "    .dataframe tbody tr th:only-of-type {\n",
       "        vertical-align: middle;\n",
       "    }\n",
       "\n",
       "    .dataframe tbody tr th {\n",
       "        vertical-align: top;\n",
       "    }\n",
       "\n",
       "    .dataframe thead th {\n",
       "        text-align: right;\n",
       "    }\n",
       "</style>\n",
       "<table border=\"1\" class=\"dataframe\">\n",
       "  <thead>\n",
       "    <tr style=\"text-align: right;\">\n",
       "      <th></th>\n",
       "      <th>Airport.Code</th>\n",
       "      <th>Airport.Name</th>\n",
       "      <th>Time.Label</th>\n",
       "      <th>Time.Month</th>\n",
       "      <th>Time.Month Name</th>\n",
       "      <th>Time.Year</th>\n",
       "      <th>Statistics.# of Delays.Carrier</th>\n",
       "      <th>Statistics.# of Delays.Late Aircraft</th>\n",
       "      <th>Statistics.# of Delays.National Aviation System</th>\n",
       "      <th>Statistics.# of Delays.Security</th>\n",
       "      <th>...</th>\n",
       "      <th>Statistics.Flights.Delayed</th>\n",
       "      <th>Statistics.Flights.Diverted</th>\n",
       "      <th>Statistics.Flights.On Time</th>\n",
       "      <th>Statistics.Flights.Total</th>\n",
       "      <th>Statistics.Minutes Delayed.Carrier</th>\n",
       "      <th>Statistics.Minutes Delayed.Late Aircraft</th>\n",
       "      <th>Statistics.Minutes Delayed.National Aviation System</th>\n",
       "      <th>Statistics.Minutes Delayed.Security</th>\n",
       "      <th>Statistics.Minutes Delayed.Total</th>\n",
       "      <th>Statistics.Minutes Delayed.Weather</th>\n",
       "    </tr>\n",
       "  </thead>\n",
       "  <tbody>\n",
       "    <tr>\n",
       "      <th>0</th>\n",
       "      <td>ATL</td>\n",
       "      <td>Atlanta, GA: Hartsfield-Jackson Atlanta Intern...</td>\n",
       "      <td>2003/06</td>\n",
       "      <td>6</td>\n",
       "      <td>June</td>\n",
       "      <td>2003</td>\n",
       "      <td>1009</td>\n",
       "      <td>1275</td>\n",
       "      <td>3217</td>\n",
       "      <td>17</td>\n",
       "      <td>...</td>\n",
       "      <td>5843</td>\n",
       "      <td>27</td>\n",
       "      <td>23974</td>\n",
       "      <td>30060</td>\n",
       "      <td>61606</td>\n",
       "      <td>68335</td>\n",
       "      <td>118831</td>\n",
       "      <td>518</td>\n",
       "      <td>268764</td>\n",
       "      <td>19474</td>\n",
       "    </tr>\n",
       "    <tr>\n",
       "      <th>1</th>\n",
       "      <td>BOS</td>\n",
       "      <td>Boston, MA: Logan International</td>\n",
       "      <td>2003/06</td>\n",
       "      <td>6</td>\n",
       "      <td>June</td>\n",
       "      <td>2003</td>\n",
       "      <td>374</td>\n",
       "      <td>495</td>\n",
       "      <td>685</td>\n",
       "      <td>3</td>\n",
       "      <td>...</td>\n",
       "      <td>1623</td>\n",
       "      <td>3</td>\n",
       "      <td>7875</td>\n",
       "      <td>9639</td>\n",
       "      <td>20319</td>\n",
       "      <td>28189</td>\n",
       "      <td>24400</td>\n",
       "      <td>99</td>\n",
       "      <td>77167</td>\n",
       "      <td>4160</td>\n",
       "    </tr>\n",
       "    <tr>\n",
       "      <th>2</th>\n",
       "      <td>BWI</td>\n",
       "      <td>Baltimore, MD: Baltimore/Washington Internatio...</td>\n",
       "      <td>2003/06</td>\n",
       "      <td>6</td>\n",
       "      <td>June</td>\n",
       "      <td>2003</td>\n",
       "      <td>296</td>\n",
       "      <td>477</td>\n",
       "      <td>389</td>\n",
       "      <td>8</td>\n",
       "      <td>...</td>\n",
       "      <td>1245</td>\n",
       "      <td>15</td>\n",
       "      <td>6998</td>\n",
       "      <td>8287</td>\n",
       "      <td>13635</td>\n",
       "      <td>26810</td>\n",
       "      <td>17556</td>\n",
       "      <td>278</td>\n",
       "      <td>64480</td>\n",
       "      <td>6201</td>\n",
       "    </tr>\n",
       "    <tr>\n",
       "      <th>3</th>\n",
       "      <td>CLT</td>\n",
       "      <td>Charlotte, NC: Charlotte Douglas International</td>\n",
       "      <td>2003/06</td>\n",
       "      <td>6</td>\n",
       "      <td>June</td>\n",
       "      <td>2003</td>\n",
       "      <td>300</td>\n",
       "      <td>472</td>\n",
       "      <td>735</td>\n",
       "      <td>2</td>\n",
       "      <td>...</td>\n",
       "      <td>1562</td>\n",
       "      <td>14</td>\n",
       "      <td>7021</td>\n",
       "      <td>8670</td>\n",
       "      <td>14763</td>\n",
       "      <td>23379</td>\n",
       "      <td>23804</td>\n",
       "      <td>127</td>\n",
       "      <td>65865</td>\n",
       "      <td>3792</td>\n",
       "    </tr>\n",
       "    <tr>\n",
       "      <th>4</th>\n",
       "      <td>DCA</td>\n",
       "      <td>Washington, DC: Ronald Reagan Washington National</td>\n",
       "      <td>2003/06</td>\n",
       "      <td>6</td>\n",
       "      <td>June</td>\n",
       "      <td>2003</td>\n",
       "      <td>283</td>\n",
       "      <td>268</td>\n",
       "      <td>487</td>\n",
       "      <td>4</td>\n",
       "      <td>...</td>\n",
       "      <td>1100</td>\n",
       "      <td>18</td>\n",
       "      <td>5321</td>\n",
       "      <td>6513</td>\n",
       "      <td>13775</td>\n",
       "      <td>13712</td>\n",
       "      <td>20999</td>\n",
       "      <td>120</td>\n",
       "      <td>52747</td>\n",
       "      <td>4141</td>\n",
       "    </tr>\n",
       "    <tr>\n",
       "      <th>...</th>\n",
       "      <td>...</td>\n",
       "      <td>...</td>\n",
       "      <td>...</td>\n",
       "      <td>...</td>\n",
       "      <td>...</td>\n",
       "      <td>...</td>\n",
       "      <td>...</td>\n",
       "      <td>...</td>\n",
       "      <td>...</td>\n",
       "      <td>...</td>\n",
       "      <td>...</td>\n",
       "      <td>...</td>\n",
       "      <td>...</td>\n",
       "      <td>...</td>\n",
       "      <td>...</td>\n",
       "      <td>...</td>\n",
       "      <td>...</td>\n",
       "      <td>...</td>\n",
       "      <td>...</td>\n",
       "      <td>...</td>\n",
       "      <td>...</td>\n",
       "    </tr>\n",
       "    <tr>\n",
       "      <th>4403</th>\n",
       "      <td>SAN</td>\n",
       "      <td>San Diego, CA: San Diego International</td>\n",
       "      <td>2016/01</td>\n",
       "      <td>1</td>\n",
       "      <td>January</td>\n",
       "      <td>2016</td>\n",
       "      <td>280</td>\n",
       "      <td>397</td>\n",
       "      <td>171</td>\n",
       "      <td>2</td>\n",
       "      <td>...</td>\n",
       "      <td>871</td>\n",
       "      <td>18</td>\n",
       "      <td>5030</td>\n",
       "      <td>6016</td>\n",
       "      <td>15482</td>\n",
       "      <td>23023</td>\n",
       "      <td>6021</td>\n",
       "      <td>79</td>\n",
       "      <td>46206</td>\n",
       "      <td>1601</td>\n",
       "    </tr>\n",
       "    <tr>\n",
       "      <th>4404</th>\n",
       "      <td>SEA</td>\n",
       "      <td>Seattle, WA: Seattle/Tacoma International</td>\n",
       "      <td>2016/01</td>\n",
       "      <td>1</td>\n",
       "      <td>January</td>\n",
       "      <td>2016</td>\n",
       "      <td>357</td>\n",
       "      <td>513</td>\n",
       "      <td>351</td>\n",
       "      <td>2</td>\n",
       "      <td>...</td>\n",
       "      <td>1274</td>\n",
       "      <td>31</td>\n",
       "      <td>8330</td>\n",
       "      <td>9739</td>\n",
       "      <td>25461</td>\n",
       "      <td>32693</td>\n",
       "      <td>11466</td>\n",
       "      <td>73</td>\n",
       "      <td>74017</td>\n",
       "      <td>4324</td>\n",
       "    </tr>\n",
       "    <tr>\n",
       "      <th>4405</th>\n",
       "      <td>SFO</td>\n",
       "      <td>San Francisco, CA: San Francisco International</td>\n",
       "      <td>2016/01</td>\n",
       "      <td>1</td>\n",
       "      <td>January</td>\n",
       "      <td>2016</td>\n",
       "      <td>560</td>\n",
       "      <td>947</td>\n",
       "      <td>2194</td>\n",
       "      <td>2</td>\n",
       "      <td>...</td>\n",
       "      <td>3825</td>\n",
       "      <td>20</td>\n",
       "      <td>8912</td>\n",
       "      <td>13206</td>\n",
       "      <td>43641</td>\n",
       "      <td>72557</td>\n",
       "      <td>153416</td>\n",
       "      <td>66</td>\n",
       "      <td>278610</td>\n",
       "      <td>8930</td>\n",
       "    </tr>\n",
       "    <tr>\n",
       "      <th>4406</th>\n",
       "      <td>SLC</td>\n",
       "      <td>Salt Lake City, UT: Salt Lake City International</td>\n",
       "      <td>2016/01</td>\n",
       "      <td>1</td>\n",
       "      <td>January</td>\n",
       "      <td>2016</td>\n",
       "      <td>338</td>\n",
       "      <td>540</td>\n",
       "      <td>253</td>\n",
       "      <td>3</td>\n",
       "      <td>...</td>\n",
       "      <td>1175</td>\n",
       "      <td>14</td>\n",
       "      <td>7426</td>\n",
       "      <td>8699</td>\n",
       "      <td>32066</td>\n",
       "      <td>33682</td>\n",
       "      <td>8057</td>\n",
       "      <td>57</td>\n",
       "      <td>76978</td>\n",
       "      <td>3116</td>\n",
       "    </tr>\n",
       "    <tr>\n",
       "      <th>4407</th>\n",
       "      <td>TPA</td>\n",
       "      <td>Tampa, FL: Tampa International</td>\n",
       "      <td>2016/01</td>\n",
       "      <td>1</td>\n",
       "      <td>January</td>\n",
       "      <td>2016</td>\n",
       "      <td>410</td>\n",
       "      <td>342</td>\n",
       "      <td>312</td>\n",
       "      <td>2</td>\n",
       "      <td>...</td>\n",
       "      <td>1095</td>\n",
       "      <td>7</td>\n",
       "      <td>4748</td>\n",
       "      <td>5996</td>\n",
       "      <td>22557</td>\n",
       "      <td>21164</td>\n",
       "      <td>11423</td>\n",
       "      <td>37</td>\n",
       "      <td>57774</td>\n",
       "      <td>2593</td>\n",
       "    </tr>\n",
       "  </tbody>\n",
       "</table>\n",
       "<p>4408 rows × 24 columns</p>\n",
       "</div>"
      ],
      "text/plain": [
       "     Airport.Code                                       Airport.Name  \\\n",
       "0             ATL  Atlanta, GA: Hartsfield-Jackson Atlanta Intern...   \n",
       "1             BOS                    Boston, MA: Logan International   \n",
       "2             BWI  Baltimore, MD: Baltimore/Washington Internatio...   \n",
       "3             CLT     Charlotte, NC: Charlotte Douglas International   \n",
       "4             DCA  Washington, DC: Ronald Reagan Washington National   \n",
       "...           ...                                                ...   \n",
       "4403          SAN             San Diego, CA: San Diego International   \n",
       "4404          SEA          Seattle, WA: Seattle/Tacoma International   \n",
       "4405          SFO     San Francisco, CA: San Francisco International   \n",
       "4406          SLC   Salt Lake City, UT: Salt Lake City International   \n",
       "4407          TPA                     Tampa, FL: Tampa International   \n",
       "\n",
       "     Time.Label  Time.Month Time.Month Name  Time.Year  \\\n",
       "0       2003/06           6            June       2003   \n",
       "1       2003/06           6            June       2003   \n",
       "2       2003/06           6            June       2003   \n",
       "3       2003/06           6            June       2003   \n",
       "4       2003/06           6            June       2003   \n",
       "...         ...         ...             ...        ...   \n",
       "4403    2016/01           1         January       2016   \n",
       "4404    2016/01           1         January       2016   \n",
       "4405    2016/01           1         January       2016   \n",
       "4406    2016/01           1         January       2016   \n",
       "4407    2016/01           1         January       2016   \n",
       "\n",
       "      Statistics.# of Delays.Carrier  Statistics.# of Delays.Late Aircraft  \\\n",
       "0                               1009                                  1275   \n",
       "1                                374                                   495   \n",
       "2                                296                                   477   \n",
       "3                                300                                   472   \n",
       "4                                283                                   268   \n",
       "...                              ...                                   ...   \n",
       "4403                             280                                   397   \n",
       "4404                             357                                   513   \n",
       "4405                             560                                   947   \n",
       "4406                             338                                   540   \n",
       "4407                             410                                   342   \n",
       "\n",
       "      Statistics.# of Delays.National Aviation System  \\\n",
       "0                                                3217   \n",
       "1                                                 685   \n",
       "2                                                 389   \n",
       "3                                                 735   \n",
       "4                                                 487   \n",
       "...                                               ...   \n",
       "4403                                              171   \n",
       "4404                                              351   \n",
       "4405                                             2194   \n",
       "4406                                              253   \n",
       "4407                                              312   \n",
       "\n",
       "      Statistics.# of Delays.Security  ...  Statistics.Flights.Delayed  \\\n",
       "0                                  17  ...                        5843   \n",
       "1                                   3  ...                        1623   \n",
       "2                                   8  ...                        1245   \n",
       "3                                   2  ...                        1562   \n",
       "4                                   4  ...                        1100   \n",
       "...                               ...  ...                         ...   \n",
       "4403                                2  ...                         871   \n",
       "4404                                2  ...                        1274   \n",
       "4405                                2  ...                        3825   \n",
       "4406                                3  ...                        1175   \n",
       "4407                                2  ...                        1095   \n",
       "\n",
       "     Statistics.Flights.Diverted  Statistics.Flights.On Time  \\\n",
       "0                             27                       23974   \n",
       "1                              3                        7875   \n",
       "2                             15                        6998   \n",
       "3                             14                        7021   \n",
       "4                             18                        5321   \n",
       "...                          ...                         ...   \n",
       "4403                          18                        5030   \n",
       "4404                          31                        8330   \n",
       "4405                          20                        8912   \n",
       "4406                          14                        7426   \n",
       "4407                           7                        4748   \n",
       "\n",
       "      Statistics.Flights.Total  Statistics.Minutes Delayed.Carrier  \\\n",
       "0                        30060                               61606   \n",
       "1                         9639                               20319   \n",
       "2                         8287                               13635   \n",
       "3                         8670                               14763   \n",
       "4                         6513                               13775   \n",
       "...                        ...                                 ...   \n",
       "4403                      6016                               15482   \n",
       "4404                      9739                               25461   \n",
       "4405                     13206                               43641   \n",
       "4406                      8699                               32066   \n",
       "4407                      5996                               22557   \n",
       "\n",
       "      Statistics.Minutes Delayed.Late Aircraft  \\\n",
       "0                                        68335   \n",
       "1                                        28189   \n",
       "2                                        26810   \n",
       "3                                        23379   \n",
       "4                                        13712   \n",
       "...                                        ...   \n",
       "4403                                     23023   \n",
       "4404                                     32693   \n",
       "4405                                     72557   \n",
       "4406                                     33682   \n",
       "4407                                     21164   \n",
       "\n",
       "      Statistics.Minutes Delayed.National Aviation System  \\\n",
       "0                                                118831     \n",
       "1                                                 24400     \n",
       "2                                                 17556     \n",
       "3                                                 23804     \n",
       "4                                                 20999     \n",
       "...                                                 ...     \n",
       "4403                                               6021     \n",
       "4404                                              11466     \n",
       "4405                                             153416     \n",
       "4406                                               8057     \n",
       "4407                                              11423     \n",
       "\n",
       "      Statistics.Minutes Delayed.Security  Statistics.Minutes Delayed.Total  \\\n",
       "0                                     518                            268764   \n",
       "1                                      99                             77167   \n",
       "2                                     278                             64480   \n",
       "3                                     127                             65865   \n",
       "4                                     120                             52747   \n",
       "...                                   ...                               ...   \n",
       "4403                                   79                             46206   \n",
       "4404                                   73                             74017   \n",
       "4405                                   66                            278610   \n",
       "4406                                   57                             76978   \n",
       "4407                                   37                             57774   \n",
       "\n",
       "      Statistics.Minutes Delayed.Weather  \n",
       "0                                  19474  \n",
       "1                                   4160  \n",
       "2                                   6201  \n",
       "3                                   3792  \n",
       "4                                   4141  \n",
       "...                                  ...  \n",
       "4403                                1601  \n",
       "4404                                4324  \n",
       "4405                                8930  \n",
       "4406                                3116  \n",
       "4407                                2593  \n",
       "\n",
       "[4408 rows x 24 columns]"
      ]
     },
     "execution_count": 2,
     "metadata": {},
     "output_type": "execute_result"
    }
   ],
   "source": [
    "# importing pandas package \n",
    "import pandas as pd \n",
    "data = pd.read_csv(\"airlines.csv\")\n",
    "data"
   ]
  },
  {
   "cell_type": "markdown",
   "id": "808c0f6b",
   "metadata": {},
   "source": [
    "## Pandas DataFrame\n",
    "\n",
    "```\n",
    "Panda has A two-dimensional data structure with corresponding labels is known as a dataframe. Spreadsheets used in Excel or Calc or SQL tables are similar to DataFrames. Pandas DataFrame consists of three main components: the data, the index, and the columns.\n",
    "```"
   ]
  },
  {
   "cell_type": "markdown",
   "id": "b0879e38",
   "metadata": {},
   "source": [
    "## Creating a Pandas DataFrame\n",
    "Creating a dataframe using List:  DataFrame can be created using a single list or a list of lists."
   ]
  },
  {
   "cell_type": "code",
   "execution_count": 3,
   "id": "04ec78b3",
   "metadata": {},
   "outputs": [
    {
     "name": "stdout",
     "output_type": "stream",
     "text": [
      "        0\n",
      "0   Geeks\n",
      "1     For\n",
      "2   Geeks\n",
      "3      is\n",
      "4  portal\n",
      "5     for\n",
      "6   Geeks\n"
     ]
    }
   ],
   "source": [
    "#import pandas as pd import pandas as pd\n",
    "# list of strings\n",
    "lst = ['Geeks', 'For', 'Geeks', 'is', 'portal', 'for', 'Geeks']\n",
    "# Calling DataFrame constructor on list \n",
    "df = pd.DataFrame(lst)\n",
    "print(df)\n"
   ]
  },
  {
   "cell_type": "markdown",
   "id": "9e272954",
   "metadata": {},
   "source": [
    "## Creating DataFrame from dict of ndarray/lists : To generate a DataFrame from a dict of narrays/lists, each narray must be the same length."
   ]
  },
  {
   "cell_type": "code",
   "execution_count": 4,
   "id": "51b0c409",
   "metadata": {},
   "outputs": [
    {
     "name": "stdout",
     "output_type": "stream",
     "text": [
      "    Name  Age\n",
      "0    Tom   20\n",
      "1   nick   21\n",
      "2  krish   19\n",
      "3   jack   18\n"
     ]
    }
   ],
   "source": [
    "# Python code demonstrate creating\n",
    "# DataFrame from dict narray / lists #By default addresses.\n",
    "import pandas as pd\n",
    "# intialise data of lists.\n",
    "data = { 'Name': ['Tom', 'nick', 'krish', 'jack'], \n",
    "        'Age': [20, 21, 19, 18]}\n",
    "# Create DataFrame\n",
    "df = pd.DataFrame(data)\n",
    "# Print the output.\n",
    "print(df)"
   ]
  },
  {
   "cell_type": "markdown",
   "id": "f71e1e62",
   "metadata": {},
   "source": [
    "## Reindexing\n",
    "```\n",
    "Reindexing modifies the row and column labels of a DataFrame.\n",
    "It denotes verifying that the data corresponds to a specific set of labels along an established axis.Indexing enables us to carry out a variety of operations, including:-\n",
    "Insert missing value (NaN) markers in label locations where there was previously no data for the label.\n",
    "To reorder existing data to correspond to a new set of labels.\n",
    "To reindex the dataframe, use the reindex() function.\n",
    "Values in the new index that do not have matching records in the dataframe are by default given the value NaN.\n",
    "```"
   ]
  },
  {
   "cell_type": "code",
   "execution_count": 12,
   "id": "c52d6168",
   "metadata": {},
   "outputs": [
    {
     "data": {
      "text/html": [
       "<div>\n",
       "<style scoped>\n",
       "    .dataframe tbody tr th:only-of-type {\n",
       "        vertical-align: middle;\n",
       "    }\n",
       "\n",
       "    .dataframe tbody tr th {\n",
       "        vertical-align: top;\n",
       "    }\n",
       "\n",
       "    .dataframe thead th {\n",
       "        text-align: right;\n",
       "    }\n",
       "</style>\n",
       "<table border=\"1\" class=\"dataframe\">\n",
       "  <thead>\n",
       "    <tr style=\"text-align: right;\">\n",
       "      <th></th>\n",
       "      <th>P</th>\n",
       "      <th>Q</th>\n",
       "      <th>R</th>\n",
       "      <th>S</th>\n",
       "    </tr>\n",
       "  </thead>\n",
       "  <tbody>\n",
       "    <tr>\n",
       "      <th>Parker</th>\n",
       "      <td>4</td>\n",
       "      <td>6</td>\n",
       "      <td>17</td>\n",
       "      <td>15</td>\n",
       "    </tr>\n",
       "    <tr>\n",
       "      <th>William</th>\n",
       "      <td>7</td>\n",
       "      <td>8</td>\n",
       "      <td>13</td>\n",
       "      <td>19</td>\n",
       "    </tr>\n",
       "    <tr>\n",
       "      <th>Smith</th>\n",
       "      <td>1</td>\n",
       "      <td>10</td>\n",
       "      <td>12</td>\n",
       "      <td>7</td>\n",
       "    </tr>\n",
       "    <tr>\n",
       "      <th>Terry</th>\n",
       "      <td>8</td>\n",
       "      <td>15</td>\n",
       "      <td>16</td>\n",
       "      <td>21</td>\n",
       "    </tr>\n",
       "    <tr>\n",
       "      <th>Phill</th>\n",
       "      <td>9</td>\n",
       "      <td>11</td>\n",
       "      <td>14</td>\n",
       "      <td>9</td>\n",
       "    </tr>\n",
       "  </tbody>\n",
       "</table>\n",
       "</div>"
      ],
      "text/plain": [
       "         P   Q   R   S\n",
       "Parker   4   6  17  15\n",
       "William  7   8  13  19\n",
       "Smith    1  10  12   7\n",
       "Terry    8  15  16  21\n",
       "Phill    9  11  14   9"
      ]
     },
     "execution_count": 12,
     "metadata": {},
     "output_type": "execute_result"
    }
   ],
   "source": [
    "import pandas as pd\n",
    "# Create dataframe\n",
    "info = pd.DataFrame({\"P\":[4, 7, 1, 8, 9], \n",
    "                     \"Q\":[6, 8, 10, 15, 11], \n",
    "                     \"R\":[17, 13, 12, 16, 14], \n",
    "                     \"S\":[15, 19, 7, 21, 9]}, \n",
    "                    index =[\"Parker\", \"William\", \"Smith\", \"Terry\", \"Phill\"])\n",
    "#Print dataframe\n",
    "info"
   ]
  },
  {
   "cell_type": "markdown",
   "id": "393669d4",
   "metadata": {},
   "source": [
    "## Now, we can use the dataframe.reindex() function to reindex the dataframe."
   ]
  },
  {
   "cell_type": "code",
   "execution_count": 6,
   "id": "dbd44ee9",
   "metadata": {},
   "outputs": [
    {
     "data": {
      "text/html": [
       "<div>\n",
       "<style scoped>\n",
       "    .dataframe tbody tr th:only-of-type {\n",
       "        vertical-align: middle;\n",
       "    }\n",
       "\n",
       "    .dataframe tbody tr th {\n",
       "        vertical-align: top;\n",
       "    }\n",
       "\n",
       "    .dataframe thead th {\n",
       "        text-align: right;\n",
       "    }\n",
       "</style>\n",
       "<table border=\"1\" class=\"dataframe\">\n",
       "  <thead>\n",
       "    <tr style=\"text-align: right;\">\n",
       "      <th></th>\n",
       "      <th>P</th>\n",
       "      <th>Q</th>\n",
       "      <th>R</th>\n",
       "      <th>S</th>\n",
       "    </tr>\n",
       "  </thead>\n",
       "  <tbody>\n",
       "    <tr>\n",
       "      <th>A</th>\n",
       "      <td>NaN</td>\n",
       "      <td>NaN</td>\n",
       "      <td>NaN</td>\n",
       "      <td>NaN</td>\n",
       "    </tr>\n",
       "    <tr>\n",
       "      <th>B</th>\n",
       "      <td>NaN</td>\n",
       "      <td>NaN</td>\n",
       "      <td>NaN</td>\n",
       "      <td>NaN</td>\n",
       "    </tr>\n",
       "    <tr>\n",
       "      <th>C</th>\n",
       "      <td>NaN</td>\n",
       "      <td>NaN</td>\n",
       "      <td>NaN</td>\n",
       "      <td>NaN</td>\n",
       "    </tr>\n",
       "    <tr>\n",
       "      <th>D</th>\n",
       "      <td>NaN</td>\n",
       "      <td>NaN</td>\n",
       "      <td>NaN</td>\n",
       "      <td>NaN</td>\n",
       "    </tr>\n",
       "    <tr>\n",
       "      <th>E</th>\n",
       "      <td>NaN</td>\n",
       "      <td>NaN</td>\n",
       "      <td>NaN</td>\n",
       "      <td>NaN</td>\n",
       "    </tr>\n",
       "  </tbody>\n",
       "</table>\n",
       "</div>"
      ],
      "text/plain": [
       "    P   Q   R   S\n",
       "A NaN NaN NaN NaN\n",
       "B NaN NaN NaN NaN\n",
       "C NaN NaN NaN NaN\n",
       "D NaN NaN NaN NaN\n",
       "E NaN NaN NaN NaN"
      ]
     },
     "execution_count": 6,
     "metadata": {},
     "output_type": "execute_result"
    }
   ],
   "source": [
    "# reindexing with new index values \n",
    "info.reindex([\"A\", \"B\", \"C\", \"D\", \"E\"])"
   ]
  },
  {
   "cell_type": "markdown",
   "id": "e17192b3",
   "metadata": {},
   "source": [
    "```\n",
    "Notice that the new indexes are populated with NaN values.\n",
    "We can fill in the missing values using the fill_value parameter.\n",
    "```"
   ]
  },
  {
   "cell_type": "code",
   "execution_count": 7,
   "id": "a66815e9",
   "metadata": {},
   "outputs": [
    {
     "data": {
      "text/html": [
       "<div>\n",
       "<style scoped>\n",
       "    .dataframe tbody tr th:only-of-type {\n",
       "        vertical-align: middle;\n",
       "    }\n",
       "\n",
       "    .dataframe tbody tr th {\n",
       "        vertical-align: top;\n",
       "    }\n",
       "\n",
       "    .dataframe thead th {\n",
       "        text-align: right;\n",
       "    }\n",
       "</style>\n",
       "<table border=\"1\" class=\"dataframe\">\n",
       "  <thead>\n",
       "    <tr style=\"text-align: right;\">\n",
       "      <th></th>\n",
       "      <th>P</th>\n",
       "      <th>Q</th>\n",
       "      <th>R</th>\n",
       "      <th>S</th>\n",
       "    </tr>\n",
       "  </thead>\n",
       "  <tbody>\n",
       "    <tr>\n",
       "      <th>A</th>\n",
       "      <td>NaN</td>\n",
       "      <td>NaN</td>\n",
       "      <td>NaN</td>\n",
       "      <td>NaN</td>\n",
       "    </tr>\n",
       "    <tr>\n",
       "      <th>B</th>\n",
       "      <td>NaN</td>\n",
       "      <td>NaN</td>\n",
       "      <td>NaN</td>\n",
       "      <td>NaN</td>\n",
       "    </tr>\n",
       "    <tr>\n",
       "      <th>C</th>\n",
       "      <td>NaN</td>\n",
       "      <td>NaN</td>\n",
       "      <td>NaN</td>\n",
       "      <td>NaN</td>\n",
       "    </tr>\n",
       "    <tr>\n",
       "      <th>D</th>\n",
       "      <td>NaN</td>\n",
       "      <td>NaN</td>\n",
       "      <td>NaN</td>\n",
       "      <td>NaN</td>\n",
       "    </tr>\n",
       "    <tr>\n",
       "      <th>E</th>\n",
       "      <td>NaN</td>\n",
       "      <td>NaN</td>\n",
       "      <td>NaN</td>\n",
       "      <td>NaN</td>\n",
       "    </tr>\n",
       "  </tbody>\n",
       "</table>\n",
       "</div>"
      ],
      "text/plain": [
       "    P   Q   R   S\n",
       "A NaN NaN NaN NaN\n",
       "B NaN NaN NaN NaN\n",
       "C NaN NaN NaN NaN\n",
       "D NaN NaN NaN NaN\n",
       "E NaN NaN NaN NaN"
      ]
     },
     "execution_count": 7,
     "metadata": {},
     "output_type": "execute_result"
    }
   ],
   "source": [
    "# reindexing with new index values \n",
    "info.reindex([\"A\", \"B\", \"C\", \"D\", \"E\"])"
   ]
  },
  {
   "cell_type": "code",
   "execution_count": 8,
   "id": "3da49a6a",
   "metadata": {},
   "outputs": [
    {
     "data": {
      "text/html": [
       "<div>\n",
       "<style scoped>\n",
       "    .dataframe tbody tr th:only-of-type {\n",
       "        vertical-align: middle;\n",
       "    }\n",
       "\n",
       "    .dataframe tbody tr th {\n",
       "        vertical-align: top;\n",
       "    }\n",
       "\n",
       "    .dataframe thead th {\n",
       "        text-align: right;\n",
       "    }\n",
       "</style>\n",
       "<table border=\"1\" class=\"dataframe\">\n",
       "  <thead>\n",
       "    <tr style=\"text-align: right;\">\n",
       "      <th></th>\n",
       "      <th>P</th>\n",
       "      <th>Q</th>\n",
       "      <th>R</th>\n",
       "      <th>S</th>\n",
       "    </tr>\n",
       "  </thead>\n",
       "  <tbody>\n",
       "    <tr>\n",
       "      <th>A</th>\n",
       "      <td>100</td>\n",
       "      <td>100</td>\n",
       "      <td>100</td>\n",
       "      <td>100</td>\n",
       "    </tr>\n",
       "    <tr>\n",
       "      <th>B</th>\n",
       "      <td>100</td>\n",
       "      <td>100</td>\n",
       "      <td>100</td>\n",
       "      <td>100</td>\n",
       "    </tr>\n",
       "    <tr>\n",
       "      <th>C</th>\n",
       "      <td>100</td>\n",
       "      <td>100</td>\n",
       "      <td>100</td>\n",
       "      <td>100</td>\n",
       "    </tr>\n",
       "    <tr>\n",
       "      <th>D</th>\n",
       "      <td>100</td>\n",
       "      <td>100</td>\n",
       "      <td>100</td>\n",
       "      <td>100</td>\n",
       "    </tr>\n",
       "    <tr>\n",
       "      <th>E</th>\n",
       "      <td>100</td>\n",
       "      <td>100</td>\n",
       "      <td>100</td>\n",
       "      <td>100</td>\n",
       "    </tr>\n",
       "  </tbody>\n",
       "</table>\n",
       "</div>"
      ],
      "text/plain": [
       "     P    Q    R    S\n",
       "A  100  100  100  100\n",
       "B  100  100  100  100\n",
       "C  100  100  100  100\n",
       "D  100  100  100  100\n",
       "E  100  100  100  100"
      ]
     },
     "execution_count": 8,
     "metadata": {},
     "output_type": "execute_result"
    }
   ],
   "source": [
    "# filling the missing values by 100 \n",
    "info.reindex ([\"A\", \"B\", \"C\", \"D\", \"E\"], fill_value =100)"
   ]
  },
  {
   "cell_type": "markdown",
   "id": "75207417",
   "metadata": {},
   "source": [
    "## Panda Sort\n",
    "```\n",
    "There are two kinds of sorting available in Pandas. They are –\n",
    "By label\n",
    "By Actual Value\n",
    "By Label - When using the sort_index() method, DataFrame can be sorted by passing the axis arguments and the sorting order. Row labels are sorted by default in ascending order.\n",
    "```"
   ]
  },
  {
   "cell_type": "code",
   "execution_count": 9,
   "id": "3f0acf21",
   "metadata": {},
   "outputs": [
    {
     "name": "stdout",
     "output_type": "stream",
     "text": [
      "       co12      col1\n",
      "1 -1.077208 -0.278496\n",
      "2  1.355789  0.595029\n",
      "3 -0.624221  0.541755\n",
      "4 -1.311704  0.135944\n",
      "5 -0.561458 -0.738655\n",
      "6  0.531195  0.580819\n",
      "7  0.156011 -2.201475\n",
      "8  1.596997 -1.126261\n",
      "8  0.182262  1.062170\n",
      "9  0.906981 -1.241922\n"
     ]
    }
   ],
   "source": [
    "import pandas as pd\n",
    "import numpy as np\n",
    "unsorted_df = pd.DataFrame(np.random.randn (10,2), index= [1,4,6,2,3,5,9,8,8,7], columns = ['co12', 'col1'])\n",
    "sorted_df = unsorted_df.sort_index() \n",
    "print (sorted_df)"
   ]
  },
  {
   "cell_type": "markdown",
   "id": "f3613825",
   "metadata": {},
   "source": [
    "## Order of Sorting\n",
    "The order of sorting can be controlled by passing a Boolean value to the ascending parameter. To better understand this, consider the following example."
   ]
  },
  {
   "cell_type": "code",
   "execution_count": 14,
   "id": "1e8da576",
   "metadata": {},
   "outputs": [
    {
     "name": "stdout",
     "output_type": "stream",
     "text": [
      "       col2      col1\n",
      "1 -2.446904  0.187454\n",
      "2 -0.120554 -0.123544\n",
      "3  0.521741  0.666213\n",
      "4  2.140242 -1.753672\n",
      "5 -0.069389  0.858318\n",
      "6  0.188284  0.954180\n",
      "7  0.078717 -1.092112\n",
      "8 -0.536986 -1.088562\n",
      "8  0.816096  1.378297\n",
      "9 -0.854985  0.395582\n"
     ]
    }
   ],
   "source": [
    "import pandas as pd\n",
    "import numpy as np\n",
    "unsorted_df = pd.DataFrame(np.random.randn (10,2), index= [1,4,6,2,3,5,9,8,8,7], columns = ['col2', 'col1'])\n",
    "sorted_df = unsorted_df.sort_index(ascending=True)   # we can also use descending order so indexing will be False\n",
    "print (sorted_df) "
   ]
  },
  {
   "cell_type": "markdown",
   "id": "bf1821dd",
   "metadata": {},
   "source": [
    "## Sort the Columns\n",
    "Sorting on the column labels is possible by passing the axis argument a value of 0 or 1. Sort by row by default, axis=0. To better understand this, consider the following example."
   ]
  },
  {
   "cell_type": "code",
   "execution_count": 18,
   "id": "080b793c",
   "metadata": {},
   "outputs": [
    {
     "name": "stdout",
     "output_type": "stream",
     "text": [
      "       col1      col2\n",
      "1 -0.097883  0.105165\n",
      "4 -0.020545 -0.854819\n",
      "6 -1.037343  0.250394\n",
      "2 -1.436486 -0.017648\n",
      "3 -0.334364  1.895937\n",
      "5 -2.265965  2.013738\n",
      "9  0.532733  0.980681\n",
      "8  1.385529 -0.210616\n",
      "8  0.944115 -0.635853\n",
      "7 -0.741651  0.806541\n"
     ]
    }
   ],
   "source": [
    "import pandas as pd\n",
    "import numpy as np\n",
    "\n",
    "unsorted_df = pd.DataFrame(np.random.randn(10, 2), index=[1,4,6,2,3,5,9,8,8,7], columns = ['col2', 'col1'])\n",
    "\n",
    "sorted_df=unsorted_df.sort_index(axis=1)\n",
    "\n",
    "print (sorted_df)"
   ]
  },
  {
   "cell_type": "code",
   "execution_count": 22,
   "id": "b49c26e2",
   "metadata": {},
   "outputs": [
    {
     "name": "stdout",
     "output_type": "stream",
     "text": [
      "       col2      col1\n",
      "1  0.639054  0.538377\n",
      "4  0.641302 -0.486712\n",
      "6 -0.646616 -0.134029\n",
      "2 -1.276167 -1.362598\n",
      "3  0.043373  0.535828\n",
      "5 -0.807689 -0.684248\n",
      "9 -0.394312 -0.038692\n",
      "8  0.734735  1.317872\n",
      "8  0.838763 -0.354872\n",
      "7  0.584525  0.867051\n",
      "       col2      col1\n",
      "1  0.639054  0.538377\n",
      "2 -1.276167 -1.362598\n",
      "3  0.043373  0.535828\n",
      "4  0.641302 -0.486712\n",
      "5 -0.807689 -0.684248\n",
      "6 -0.646616 -0.134029\n",
      "7  0.584525  0.867051\n",
      "8  0.734735  1.317872\n",
      "8  0.838763 -0.354872\n",
      "9 -0.394312 -0.038692\n"
     ]
    }
   ],
   "source": [
    "import pandas as pd\n",
    "import numpy as np\n",
    "\n",
    "unsorted_df = pd.DataFrame(np.random.randn(10, 2), index=[1,4,6,2,3,5,9,8,8,7], columns = ['col2', 'col1'])\n",
    "print(unsorted_df)\n",
    "sorted_df=unsorted_df.sort_index(axis=0)\n",
    "\n",
    "print (sorted_df)"
   ]
  },
  {
   "cell_type": "markdown",
   "id": "ad1bddec",
   "metadata": {},
   "source": [
    "## By Value\n",
    "Sort_values(), like index sorting, is a method for sorting by values. It accepts a 'by' argument, which will use the column name of the DataFrame to sort the values."
   ]
  },
  {
   "cell_type": "code",
   "execution_count": 21,
   "id": "c53eca73",
   "metadata": {},
   "outputs": [
    {
     "name": "stdout",
     "output_type": "stream",
     "text": [
      "   col1  col2\n",
      "0     2     1\n",
      "1     1     3\n",
      "2     1     2\n",
      "3     1     4\n",
      "   col1  col2\n",
      "1     1     3\n",
      "2     1     2\n",
      "3     1     4\n",
      "0     2     1\n"
     ]
    }
   ],
   "source": [
    "import pandas as pd\n",
    "import numpy as np\n",
    "unsorted_df = pd.DataFrame({'col1': [2,1,1,1], 'col2': [1,3,2,4]}) \n",
    "print(unsorted_df)\n",
    "\n",
    "sorted_df = unsorted_df.sort_values (by='col1')\n",
    "print (sorted_df)"
   ]
  },
  {
   "attachments": {
    "download.png": {
     "image/png": "[encoded data removed]"
    }
   },
   "cell_type": "markdown",
   "id": "426340c6",
   "metadata": {},
   "source": [
    "## Working with Text Data\n",
    "```\n",
    "Working with string data is made simple by a set of string functions that are part of Pandas.\n",
    "Most importantly, these functions ignore (or exclude) missing/NaN values.\n",
    "Watch each operation now to see how it does.\n",
    "```\n",
    "![download.png](attachment:download.png)"
   ]
  },
  {
   "cell_type": "code",
   "execution_count": 23,
   "id": "74aa28e2",
   "metadata": {},
   "outputs": [
    {
     "name": "stdout",
     "output_type": "stream",
     "text": [
      "0             tom\n",
      "1    william rick\n",
      "2            john\n",
      "3         alber@t\n",
      "4             NaN\n",
      "5            1234\n",
      "6      stevesmith\n",
      "dtype: object\n"
     ]
    }
   ],
   "source": [
    "import pandas as pd\n",
    "import numpy as np\n",
    "s = pd.Series(['Tom', 'William Rick', 'John', 'Alber@t', np.nan, '1234', 'SteveSmith'])\n",
    "print (s. str.lower())"
   ]
  },
  {
   "cell_type": "code",
   "execution_count": 24,
   "id": "75644f81",
   "metadata": {},
   "outputs": [
    {
     "name": "stdout",
     "output_type": "stream",
     "text": [
      "0             TOM\n",
      "1    WILLIAM RICK\n",
      "2            JOHN\n",
      "3         ALBER@T\n",
      "4             NaN\n",
      "5            1234\n",
      "6      STEVESMITH\n",
      "dtype: object\n"
     ]
    }
   ],
   "source": [
    "import pandas as pd\n",
    "import numpy as np\n",
    "s = pd.Series(['Tom', 'William Rick', 'John', 'Alber@t', np.nan, '1234', 'SteveSmith'])\n",
    "print (s. str.upper())"
   ]
  },
  {
   "attachments": {
    "download.png": {
     "image/png": "[encoded data removed]"
    }
   },
   "cell_type": "markdown",
   "id": "8dde1d1a",
   "metadata": {},
   "source": [
    "## Statistical Functions\n",
    "```\n",
    "Using pandas, it is simple to simplify numerous complex statistical operations in Python to a single line of code.\n",
    "Some of the most popular and practical statistical operations will be covered.\n",
    "```![download.png](attachment:download.png)"
   ]
  },
  {
   "cell_type": "markdown",
   "id": "de107d86",
   "metadata": {},
   "source": [
    "## Pandas sum() method"
   ]
  },
  {
   "cell_type": "code",
   "execution_count": 28,
   "id": "adc15c19",
   "metadata": {},
   "outputs": [
    {
     "name": "stdout",
     "output_type": "stream",
     "text": [
      "DataFrame = \n",
      "    Maths  Science  English\n",
      "0     90       92       95\n",
      "1     85       87       94\n",
      "2     98       59       84\n",
      "3     80       64       75\n",
      "4     55       87       67\n",
      "5     78       96       65\n",
      "\n",
      "Sum = \n",
      " Maths      486\n",
      "Science    485\n",
      "English    480\n",
      "dtype: int64\n"
     ]
    }
   ],
   "source": [
    "import pandas as pd\n",
    "# Dataset\n",
    "data = {\n",
    "'Maths' :[90, 85, 98, 80, 55, 78],\n",
    "'Science': [92, 87, 59, 64, 87, 96], 'English': [95, 94, 84, 75, 67, 65]\n",
    "}\n",
    "# DataFrame\n",
    "df = pd.DataFrame(data)\n",
    "# Display the DataFrame \n",
    "print(\"DataFrame = \\n\",df)\n",
    "# Display the Sum of Marks in each column \n",
    "print(\"\\nSum = \\n\",df.sum())"
   ]
  },
  {
   "cell_type": "markdown",
   "id": "d31a043f",
   "metadata": {},
   "source": [
    "## Pandas count() method"
   ]
  },
  {
   "cell_type": "code",
   "execution_count": 29,
   "id": "812f5235",
   "metadata": {},
   "outputs": [
    {
     "name": "stdout",
     "output_type": "stream",
     "text": [
      "DataFrame = \n",
      "    Maths  Science  English\n",
      "0   90.0     92.0     95.0\n",
      "1   85.0     87.0      NaN\n",
      "2   98.0     59.0     84.0\n",
      "3    NaN      NaN     75.0\n",
      "4   55.0      NaN     67.0\n",
      "5   78.0     96.0      NaN\n",
      "\n",
      "Count of non-empty values = \n",
      " Maths      5\n",
      "Science    4\n",
      "English    4\n",
      "dtype: int64\n"
     ]
    }
   ],
   "source": [
    "import pandas as pd\n",
    "# Dataset\n",
    "data = {\n",
    "'Maths': [90, 85, 98, None, 55, 78],\n",
    "'Science': [92, 87, 59, None, None, 96],\n",
    "'English': [95, None, 84, 75, 67, None]\n",
    "}\n",
    "# DataFrame\n",
    "df = pd.DataFrame(data)\n",
    "# Display the DataFrame \n",
    "print(\"DataFrame = \\n\", df)\n",
    "# Display the Count of non-empty values in each column \n",
    "print(\"\\nCount of non-empty values = \\n\", df.count())"
   ]
  },
  {
   "cell_type": "markdown",
   "id": "497c347c",
   "metadata": {},
   "source": [
    "## Pandas max() method"
   ]
  },
  {
   "cell_type": "code",
   "execution_count": 30,
   "id": "ba19998b",
   "metadata": {},
   "outputs": [
    {
     "name": "stdout",
     "output_type": "stream",
     "text": [
      "DataFrame = \n",
      "    Maths  Science  English\n",
      "0     90       92       95\n",
      "1     85       87       94\n",
      "2     98       59       84\n",
      "3     80       64       75\n",
      "4     55       87       67\n",
      "5     78       96       65\n",
      "\n",
      "Maximum Marks = \n",
      " Maths      98\n",
      "Science    96\n",
      "English    95\n",
      "dtype: int64\n"
     ]
    }
   ],
   "source": [
    "import pandas as pd\n",
    "# Dataset\n",
    "data = { 'Maths': [90, 85, 98, 80, 55, 78],\n",
    "'Science': [92, 87, 59, 64, 87, 96],\n",
    "'English': [95, 94, 84, 75, 67, 65]\n",
    "}\n",
    "#DataFrame\n",
    "df = pd.DataFrame(data)\n",
    "# Display the DataFrame \n",
    "print(\"DataFrame = \\n\",df)\n",
    "# Display the Maximum of Marks in each column \n",
    "print(\"\\nMaximum Marks = \\n\", df.max())"
   ]
  },
  {
   "cell_type": "markdown",
   "id": "d1f9a313",
   "metadata": {},
   "source": [
    "## Pandas min() method"
   ]
  },
  {
   "cell_type": "code",
   "execution_count": 31,
   "id": "c826f8d4",
   "metadata": {},
   "outputs": [
    {
     "name": "stdout",
     "output_type": "stream",
     "text": [
      "DataFrame = \n",
      "    Maths  Science  English\n",
      "0     90       92       95\n",
      "1     85       87       94\n",
      "2     98       59       84\n",
      "3     80       64       75\n",
      "4     55       87       67\n",
      "5     78       96       65\n",
      "\n",
      "Minimum Marks = \n",
      " Maths      55\n",
      "Science    59\n",
      "English    65\n",
      "dtype: int64\n"
     ]
    }
   ],
   "source": [
    "import pandas as pd\n",
    "# Dataset\n",
    "data = {\n",
    "'Maths' : [90, 85, 98, 80, 55, 78], 'Science': [92, 87, 59, 64, 87, 96], 'English': [95, 94, 84, 75, 67, 65]\n",
    "}\n",
    "# DataFrame\n",
    "df = pd.DataFrame(data)\n",
    "# Display the DataFrame\n",
    "print(\"DataFrame = \\n\", df)\n",
    "# Display the Minimum of Marks in each column \n",
    "print(\"\\nMinimum Marks = \\n\", df.min())"
   ]
  },
  {
   "cell_type": "markdown",
   "id": "bce70d3f",
   "metadata": {},
   "source": [
    "## Pandas median() method\n"
   ]
  },
  {
   "cell_type": "code",
   "execution_count": 32,
   "id": "eb0c3046",
   "metadata": {},
   "outputs": [
    {
     "name": "stdout",
     "output_type": "stream",
     "text": [
      "DataFrame = \n",
      "    Maths  Science  English\n",
      "0     90       92       95\n",
      "1     85       87       94\n",
      "2     98       59       84\n",
      "3     80       64       75\n",
      "4     55       87       67\n",
      "5     78       96       65\n",
      "\n",
      "Median = \n",
      " Maths      82.5\n",
      "Science    87.0\n",
      "English    79.5\n",
      "dtype: float64\n"
     ]
    }
   ],
   "source": [
    "import pandas as pd\n",
    "# Dataset\n",
    "data = {\n",
    "'Maths': [90, 85, 98, 80, 55, 78],\n",
    "'Science': [92, 87, 59, 64, 87, 96], 'English': [95, 94, 84, 75, 67, 65]\n",
    "}\n",
    "# DataFrame\n",
    "df = pd.DataFrame(data)\n",
    "# Display the DataFrame\n",
    "print(\"DataFrame = \\n\", df)\n",
    "# Display the Median of Marks in each column \n",
    "print(\"\\nMedian = \\n\",df.median())"
   ]
  },
  {
   "cell_type": "markdown",
   "id": "d10a20b0",
   "metadata": {},
   "source": [
    "## PANDA ISNULL() method"
   ]
  },
  {
   "cell_type": "code",
   "execution_count": 34,
   "id": "393c01aa",
   "metadata": {},
   "outputs": [
    {
     "name": "stdout",
     "output_type": "stream",
     "text": [
      "DataFrame = \n",
      "    Maths  Science  English\n",
      "0   90.0     92.0     95.0\n",
      "1   85.0     87.0      NaN\n",
      "2   98.0     59.0     84.0\n",
      "3    NaN      NaN     75.0\n",
      "4   55.0      NaN     67.0\n",
      "5   78.0     96.0      NaN\n",
      "\n",
      "Count of non-empty values = \n",
      "    Maths  Science  English\n",
      "0  False    False    False\n",
      "1  False    False     True\n",
      "2  False    False    False\n",
      "3   True     True    False\n",
      "4  False     True    False\n",
      "5  False    False     True\n"
     ]
    }
   ],
   "source": [
    "import pandas as pd\n",
    "# Dataset\n",
    "data = {\n",
    "'Maths': [90, 85, 98, None, 55, 78],\n",
    "'Science': [92, 87, 59, None, None, 96],\n",
    "'English': [95, None, 84, 75, 67, None]\n",
    "}\n",
    "# DataFrame\n",
    "df = pd.DataFrame(data)\n",
    "# Display the DataFrame \n",
    "print(\"DataFrame = \\n\", df)\n",
    "\n",
    "print(\"\\nCount of non-empty values = \\n\", df.isnull())"
   ]
  },
  {
   "cell_type": "markdown",
   "id": "bbee018b",
   "metadata": {},
   "source": [
    "## Indexing and Selecting Data\n",
    "```\n",
    "In Pandas, selecting specific rows and columns of data from a DataFrame constitutes indexing.\n",
    "Selecting all the rows and some of the columns, some of the rows and all the columns, or a portion of each row and each column is what is referred to as indexing.\n",
    "Another term for indexing is subset selection.\n",
    "Pandas now supports three types of Multi-axes indexing\n",
    "```"
   ]
  },
  {
   "cell_type": "markdown",
   "id": "489bb5cd",
   "metadata": {},
   "source": [
    "## Indexing a Data frame using indexing operator [] :\n",
    "```\n",
    "This indexer had the ability to select both by integer location and label. Although it was adaptable, its lack of explicitness led to a lot of confusion. Integers can occasionally serve as labels for rows and columns as well. As a result, there were times when it was unclear. In most cases, ix is label-based and performs exactly as the.loc indexer. However,.ix also supports choosing an integer type (like.iloc) when an integer is passed. This only functions when the DataFrame's index is not integer-based.Any.loc and.iloc input is acceptable for ix.\n",
    "```"
   ]
  },
  {
   "cell_type": "code",
   "execution_count": 35,
   "id": "31c9aade",
   "metadata": {},
   "outputs": [],
   "source": [
    "# importing pandas package\n",
    "import pandas as pd"
   ]
  },
  {
   "cell_type": "code",
   "execution_count": 36,
   "id": "b376a7fd",
   "metadata": {},
   "outputs": [],
   "source": [
    "# making data frame from csv file\n",
    "data = pd.read_csv(\"nba.csv\", index_col =\"Name\")"
   ]
  },
  {
   "cell_type": "code",
   "execution_count": 37,
   "id": "9fa7c3b7",
   "metadata": {},
   "outputs": [],
   "source": [
    "# retrieving columns by indexing operator\n",
    "first = data[\"Age\"]\n"
   ]
  },
  {
   "cell_type": "code",
   "execution_count": 38,
   "id": "d94739d9",
   "metadata": {},
   "outputs": [
    {
     "name": "stdout",
     "output_type": "stream",
     "text": [
      "Name\n",
      "Avery Bradley    25.0\n",
      "Jae Crowder      25.0\n",
      "John Holland     27.0\n",
      "R.J. Hunter      22.0\n",
      "Jonas Jerebko    29.0\n",
      "                 ... \n",
      "Shelvin Mack     26.0\n",
      "Raul Neto        24.0\n",
      "Tibor Pleiss     26.0\n",
      "Jeff Withey      26.0\n",
      "NaN               NaN\n",
      "Name: Age, Length: 458, dtype: float64\n"
     ]
    }
   ],
   "source": [
    "print(first)"
   ]
  },
  {
   "cell_type": "markdown",
   "id": "1ef1d80b",
   "metadata": {},
   "source": [
    "## Indexing a DataFrame using .loc[ ] :"
   ]
  },
  {
   "cell_type": "code",
   "execution_count": 39,
   "id": "106d5bbb",
   "metadata": {},
   "outputs": [
    {
     "name": "stdout",
     "output_type": "stream",
     "text": [
      "Team        Boston Celtics\n",
      "Number                 0.0\n",
      "Position                PG\n",
      "Age                   25.0\n",
      "Height                 6-2\n",
      "Weight               180.0\n",
      "College              Texas\n",
      "Salary           7730337.0\n",
      "Name: Avery Bradley, dtype: object \n",
      "\n",
      "\n",
      " Team        Boston Celtics\n",
      "Number                28.0\n",
      "Position                SG\n",
      "Age                   22.0\n",
      "Height                 6-5\n",
      "Weight               185.0\n",
      "College      Georgia State\n",
      "Salary           1148640.0\n",
      "Name: R.J. Hunter, dtype: object\n"
     ]
    }
   ],
   "source": [
    "# importing pandas package\n",
    "import pandas as pd\n",
    "\n",
    "# making data frame from csv file\n",
    "data = pd.read_csv(\"nba.csv\", index_col =\"Name\")\n",
    "\n",
    "# retrieving row by loc method\n",
    "first = data.loc[\"Avery Bradley\"]\n",
    "second = data.loc[\"R.J. Hunter\"]\n",
    "\n",
    "print(first, \"\\n\\n\\n\", second)"
   ]
  },
  {
   "cell_type": "markdown",
   "id": "204e0749",
   "metadata": {},
   "source": [
    "## Indexing a DataFrame using .iloc[ ] :"
   ]
  },
  {
   "cell_type": "code",
   "execution_count": 42,
   "id": "da62c99a",
   "metadata": {},
   "outputs": [
    {
     "name": "stdout",
     "output_type": "stream",
     "text": [
      "Team        Boston Celtics\n",
      "Number                 0.0\n",
      "Position                PG\n",
      "Age                   25.0\n",
      "Height                 6-2\n",
      "Weight               180.0\n",
      "College              Texas\n",
      "Salary           7730337.0\n",
      "Name: Avery Bradley, dtype: object\n"
     ]
    }
   ],
   "source": [
    "import pandas as pd\n",
    "\n",
    "# making data frame from csv file\n",
    "data = pd.read_csv(\"nba.csv\", index_col =\"Name\")\n",
    "\n",
    "# retrieving rows by iloc method\n",
    "row2 = data.iloc[0]  \n",
    "\n",
    "print(row2)"
   ]
  },
  {
   "cell_type": "code",
   "execution_count": null,
   "id": "32a6c72a",
   "metadata": {},
   "outputs": [],
   "source": []
  }
 ],
 "metadata": {
  "kernelspec": {
   "display_name": "Python 3 (ipykernel)",
   "language": "python",
   "name": "python3"
  },
  "language_info": {
   "codemirror_mode": {
    "name": "ipython",
    "version": 3
   },
   "file_extension": ".py",
   "mimetype": "text/x-python",
   "name": "python",
   "nbconvert_exporter": "python",
   "pygments_lexer": "ipython3",
   "version": "3.11.3"
  }
 },
 "nbformat": 4,
 "nbformat_minor": 5
}
