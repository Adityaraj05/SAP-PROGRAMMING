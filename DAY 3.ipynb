{
 "cells": [
  {
   "cell_type": "markdown",
   "id": "4f936b06",
   "metadata": {},
   "source": [
    "# Loops in Pyton\n"
   ]
  },
  {
   "cell_type": "markdown",
   "id": "8d076cda",
   "metadata": {},
   "source": [
    "# 1 while loop\n"
   ]
  },
  {
   "cell_type": "code",
   "execution_count": 5,
   "id": "2349b73c",
   "metadata": {},
   "outputs": [
    {
     "name": "stdout",
     "output_type": "stream",
     "text": [
      "Hello world\n",
      "Hello world\n",
      "Hello world\n"
     ]
    }
   ],
   "source": [
    "counter = 0\n",
    "while counter < 3:\n",
    "    print(\"Hello world\")\n",
    "    counter = counter +1"
   ]
  },
  {
   "cell_type": "markdown",
   "id": "87612794",
   "metadata": {},
   "source": [
    "# For loops"
   ]
  },
  {
   "cell_type": "code",
   "execution_count": 15,
   "id": "7cc67787",
   "metadata": {},
   "outputs": [
    {
     "name": "stdout",
     "output_type": "stream",
     "text": [
      "123456789"
     ]
    }
   ],
   "source": [
    "for i in range(1,10):\n",
    "    print(i, end=\"\")"
   ]
  },
  {
   "cell_type": "code",
   "execution_count": 10,
   "id": "e4e48797",
   "metadata": {},
   "outputs": [
    {
     "name": "stdout",
     "output_type": "stream",
     "text": [
      "0123456789"
     ]
    }
   ],
   "source": [
    "for i in range(10):\n",
    "    print(i, end=\"\")"
   ]
  },
  {
   "cell_type": "code",
   "execution_count": 16,
   "id": "83c8ad3a",
   "metadata": {},
   "outputs": [
    {
     "name": "stdout",
     "output_type": "stream",
     "text": [
      "pyhton"
     ]
    }
   ],
   "source": [
    "for letter in \"pyhton\":\n",
    "    print(letter, end=\"\")"
   ]
  },
  {
   "cell_type": "code",
   "execution_count": 27,
   "id": "7cc5b706",
   "metadata": {},
   "outputs": [
    {
     "name": "stdout",
     "output_type": "stream",
     "text": [
      "1009590858075706560555045403530252015105"
     ]
    }
   ],
   "source": [
    "for i in range(100,0,-5):\n",
    "    \n",
    "    print(i, end=\"\")"
   ]
  },
  {
   "cell_type": "code",
   "execution_count": 36,
   "id": "ced91db0",
   "metadata": {},
   "outputs": [
    {
     "name": "stdout",
     "output_type": "stream",
     "text": [
      "apple\n",
      "banan\n",
      "cherry\n"
     ]
    }
   ],
   "source": [
    "fruits=['apple', 'banan','cherry']\n",
    "for fruit in fruits:\n",
    "    print(fruit)"
   ]
  },
  {
   "cell_type": "markdown",
   "id": "14c42958",
   "metadata": {},
   "source": [
    "# Python expression statement\n",
    "# 1. Pass Statement"
   ]
  },
  {
   "cell_type": "code",
   "execution_count": 39,
   "id": "b09e0679",
   "metadata": {},
   "outputs": [],
   "source": [
    "n =10\n",
    "# use pass inside if statement\n",
    "\n",
    "if n> 10:\n",
    "    pass"
   ]
  },
  {
   "cell_type": "markdown",
   "id": "25dc4c1a",
   "metadata": {},
   "source": [
    "# 2. Del Statement"
   ]
  },
  {
   "cell_type": "code",
   "execution_count": 42,
   "id": "0f9c6ea0",
   "metadata": {},
   "outputs": [
    {
     "name": "stdout",
     "output_type": "stream",
     "text": [
      "['chemistry', 'maths']\n"
     ]
    }
   ],
   "source": [
    "x = [\"physic\", \"chemistry\",\"maths\"]\n",
    "del x[0]\n",
    "print(x)"
   ]
  },
  {
   "cell_type": "markdown",
   "id": "c457fef0",
   "metadata": {},
   "source": [
    "# 3. Break Statement"
   ]
  },
  {
   "cell_type": "code",
   "execution_count": null,
   "id": "b7ffea87",
   "metadata": {},
   "outputs": [],
   "source": [
    " #it is use when we want to break the loop after the specific iteration. \n",
    " i = 1\n",
    "while i<9:\n",
    "    print(i)\n",
    "    if i ==3:\n",
    "      break\n",
    "    i +=1"
   ]
  },
  {
   "cell_type": "markdown",
   "id": "ccd1956d",
   "metadata": {},
   "source": [
    "# 4. Continue Statement"
   ]
  },
  {
   "cell_type": "code",
   "execution_count": 16,
   "id": "78ae91f6",
   "metadata": {},
   "outputs": [
    {
     "name": "stdout",
     "output_type": "stream",
     "text": [
      "2\n",
      "4\n",
      "5\n",
      "6\n",
      "7\n",
      "8\n",
      "9\n"
     ]
    }
   ],
   "source": [
    "#it is use when we want to break the loop after the specific iteration. \n",
    "i = 1\n",
    "while i<9:\n",
    "     i +=1\n",
    "     if i==3:\n",
    "      continue\n",
    "     print(i)\n",
    " "
   ]
  },
  {
   "cell_type": "markdown",
   "id": "e78ac77d",
   "metadata": {},
   "source": [
    "# Exercise 2.\n"
   ]
  },
  {
   "cell_type": "code",
   "execution_count": 26,
   "id": "cba92e30",
   "metadata": {},
   "outputs": [
    {
     "name": "stdout",
     "output_type": "stream",
     "text": [
      "Total bill amount: 5.6\n"
     ]
    }
   ],
   "source": [
    "def calculate_total_bill(items,prices):\n",
    "    if len(items) != len(prices):\n",
    "        return \"Error: The number of items and prices should be the same\"\n",
    "    total_bill = 0\n",
    "    for price in prices:\n",
    "        total_bill += price\n",
    "    return total_bill\n",
    "\n",
    "items_list = [\"Apple\",\"Banana\",\"Milk\",\"Bread\"]\n",
    "price_list = [1.2,0.6,2.3,1.5]\n",
    "total_bill_amount = calculate_total_bill(items_list, price_list)\n",
    "print(\"Total bill amount:\", total_bill_amount)"
   ]
  },
  {
   "cell_type": "markdown",
   "id": "cce34863",
   "metadata": {},
   "source": [
    "# Exercise 3."
   ]
  },
  {
   "cell_type": "code",
   "execution_count": 32,
   "id": "b95866f6",
   "metadata": {},
   "outputs": [
    {
     "name": "stdout",
     "output_type": "stream",
     "text": [
      "Discounted bill amount: 33.2\n"
     ]
    }
   ],
   "source": [
    "def calculate_discounted_bill(original_prices, discount_items):\n",
    "    discounted_bill = 0\n",
    "    for i in range(len(original_prices)):\n",
    "        if discount_items[i]:\n",
    "            discounted_bill += original_prices[i] * 0.9\n",
    "        else:\n",
    "             discounted_bill += original_prices[i]\n",
    "    return discounted_bill\n",
    "\n",
    "original_prices_list = [10,5,8,12]\n",
    "discount_items_list  = [True, False, True, False]\n",
    "discounted_bill_amount = calculate_discounted_bill(original_prices_list, discount_items_list)\n",
    "print(\"Discounted bill amount:\", discounted_bill_amount )"
   ]
  },
  {
   "cell_type": "markdown",
   "id": "db86c9e0",
   "metadata": {},
   "source": [
    " # Exercise 4. Counting Even numbers"
   ]
  },
  {
   "cell_type": "code",
   "execution_count": 34,
   "id": "7498e97d",
   "metadata": {},
   "outputs": [
    {
     "name": "stdout",
     "output_type": "stream",
     "text": [
      "Even numbers in the list:  3\n",
      "Odd numbers in the list:  4\n"
     ]
    }
   ],
   "source": [
    "# list of numbers\n",
    "list1 = [10, 21, 4, 45, 66, 93, 11]\n",
    "\n",
    "odd_count = len(list(filter(lambda x: (x%2 != 0) , list1)))\n",
    "\n",
    "# we can also do len(list1) - odd_count\n",
    "even_count = len(list(filter(lambda x: (x%2 == 0) , list1)))\n",
    "\n",
    "print(\"Even numbers in the list: \", even_count)\n",
    "print(\"Odd numbers in the list: \", odd_count)\n"
   ]
  },
  {
   "cell_type": "markdown",
   "id": "be1fb7a1",
   "metadata": {},
   "source": [
    "# Lambda Function\n",
    "\n",
    "## A lambda Function is a small anonymous function. it take any numbers of arguments ."
   ]
  },
  {
   "cell_type": "code",
   "execution_count": 36,
   "id": "109ab2c1",
   "metadata": {},
   "outputs": [
    {
     "name": "stdout",
     "output_type": "stream",
     "text": [
      "15\n"
     ]
    }
   ],
   "source": [
    "x = lambda a:(a+10)\n",
    "print(x(5))"
   ]
  },
  {
   "cell_type": "code",
   "execution_count": 38,
   "id": "e7bf6baf",
   "metadata": {},
   "outputs": [
    {
     "name": "stdout",
     "output_type": "stream",
     "text": [
      "30\n"
     ]
    }
   ],
   "source": [
    "x = lambda a,b:a*b\n",
    "print(x(5,6))"
   ]
  },
  {
   "cell_type": "markdown",
   "id": "f9b9bad0",
   "metadata": {},
   "source": [
    "# Exception Handling Python\n",
    "# 1. try-except block"
   ]
  },
  {
   "cell_type": "code",
   "execution_count": 41,
   "id": "86d88def",
   "metadata": {},
   "outputs": [
    {
     "name": "stdout",
     "output_type": "stream",
     "text": [
      "Enter the numerator: 6\n",
      "Enter the  denominator: 3\n",
      "Result: 2.0\n"
     ]
    }
   ],
   "source": [
    "try:\n",
    "    numerator = int(input(\"Enter the numerator: \"))\n",
    "    denominator = int(input(\"Enter the  denominator: \"))\n",
    "    result = numerator /  denominator\n",
    "    print(\"Result:\", result)\n",
    "except ZeroDivisionError:\n",
    "    print(\"Error: Cannot divide by zero.\")\n",
    "except ValueError:\n",
    "    print(\"Error: Please enter valid integers for numerator and denominator.\")"
   ]
  },
  {
   "cell_type": "markdown",
   "id": "21714a30",
   "metadata": {},
   "source": [
    "# 2. try-except-else block"
   ]
  },
  {
   "cell_type": "code",
   "execution_count": 44,
   "id": "9433e84f",
   "metadata": {},
   "outputs": [
    {
     "name": "stdout",
     "output_type": "stream",
     "text": [
      "Enter a number:4\n",
      "Square of the number 16\n"
     ]
    }
   ],
   "source": [
    "try:\n",
    "    number = int(input(\"Enter a number:\"))\n",
    "except ValueError:\n",
    "    print(\"Error: Please enter a valid integer.\")\n",
    "else:\n",
    "    square = number **2\n",
    "    print(\"Square of the number\", square)"
   ]
  },
  {
   "cell_type": "markdown",
   "id": "495db829",
   "metadata": {},
   "source": [
    "# 3. try-except-finally block"
   ]
  },
  {
   "cell_type": "code",
   "execution_count": 49,
   "id": "de726889",
   "metadata": {},
   "outputs": [
    {
     "name": "stdout",
     "output_type": "stream",
     "text": [
      " Hii , My name is Aditya Raj\n"
     ]
    }
   ],
   "source": [
    "try:\n",
    "    file= open(\"data.txt\",\"r\")\n",
    "    content = file.read()\n",
    "    print(content)\n",
    "except FileNotFoundError:\n",
    "    print(\"Error: File not found\")\n",
    "finally:\n",
    "    if'file' in locals():\n",
    "        file.close()"
   ]
  },
  {
   "cell_type": "markdown",
   "id": "b791467a",
   "metadata": {},
   "source": [
    "# Its Just Beggining of new Journey"
   ]
  },
  {
   "cell_type": "code",
   "execution_count": null,
   "id": "60f0658d",
   "metadata": {},
   "outputs": [],
   "source": []
  }
 ],
 "metadata": {
  "kernelspec": {
   "display_name": "Python 3 (ipykernel)",
   "language": "python",
   "name": "python3"
  },
  "language_info": {
   "codemirror_mode": {
    "name": "ipython",
    "version": 3
   },
   "file_extension": ".py",
   "mimetype": "text/x-python",
   "name": "python",
   "nbconvert_exporter": "python",
   "pygments_lexer": "ipython3",
   "version": "3.11.3"
  }
 },
 "nbformat": 4,
 "nbformat_minor": 5
}
