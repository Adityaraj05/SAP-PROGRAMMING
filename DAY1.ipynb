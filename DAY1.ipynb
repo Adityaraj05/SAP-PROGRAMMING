{
 "cells": [
  {
   "cell_type": "code",
   "execution_count": 2,
   "id": "f5766a8d",
   "metadata": {},
   "outputs": [
    {
     "name": "stdout",
     "output_type": "stream",
     "text": [
      "Hello World\n"
     ]
    }
   ],
   "source": [
    "#print hello world\n",
    "\n",
    "print(\"Hello World\")"
   ]
  },
  {
   "cell_type": "code",
   "execution_count": 62,
   "id": "1c2a149c",
   "metadata": {},
   "outputs": [
    {
     "name": "stdout",
     "output_type": "stream",
     "text": [
      "140720097629256\n",
      "140720097629288\n",
      "140720097629320\n"
     ]
    }
   ],
   "source": [
    "x=10\n",
    "y=11\n",
    "z=12\n",
    "print(id(x))\n",
    "print(id(y))\n",
    "print(id(z))"
   ]
  },
  {
   "cell_type": "code",
   "execution_count": 63,
   "id": "35eb6232",
   "metadata": {},
   "outputs": [
    {
     "name": "stdout",
     "output_type": "stream",
     "text": [
      "hello\n",
      "hello\n",
      "hello\n",
      "hello\n"
     ]
    }
   ],
   "source": [
    "myvar=\"hello\"\n",
    "my_var=\"hello\"\n",
    "_my_var=\"hello\"\n",
    "myVar=\"hello\"\n",
    "print(myvar)\n",
    "print(my_var)\n",
    "print(_my_var)\n",
    "print(myVar)"
   ]
  },
  {
   "attachments": {},
   "cell_type": "markdown",
   "id": "e06f26f7",
   "metadata": {},
   "source": [
    "# Type of variable\n",
    "There are two type of variables 1) Local Vairable"
   ]
  },
  {
   "attachments": {},
   "cell_type": "markdown",
   "id": "86ca7d08",
   "metadata": {},
   "source": [
    "def hello():\n",
    "    a=10\n",
    "    print(a)\n",
    "    return\n",
    "hello()"
   ]
  },
  {
   "attachments": {},
   "cell_type": "markdown",
   "id": "81568834",
   "metadata": {},
   "source": [
    "# 2. Global Variables\n",
    "\n",
    "Variables that are created outside of a function (as in all of the examples above) are known as global variables.\n",
    "\n",
    "Global variables can be used by everyone, both inside of functions and outside."
   ]
  },
  {
   "cell_type": "code",
   "execution_count": 65,
   "id": "c8cd67e3",
   "metadata": {},
   "outputs": [
    {
     "name": "stdout",
     "output_type": "stream",
     "text": [
      "Welcome to Code Unnati 2.0\n"
     ]
    }
   ],
   "source": [
    "a=\"Welcome to Code Unnati 2.0\"\n",
    "def hello():\n",
    "    a=20\n",
    "    print(a)\n",
    "    return\n",
    "print(a)"
   ]
  },
  {
   "attachments": {},
   "cell_type": "markdown",
   "id": "e5030ec0",
   "metadata": {},
   "source": [
    "# 3. keyword \n",
    "\n",
    "\n",
    "false, None, class, continue, finlly, is, return, True.........\n"
   ]
  },
  {
   "attachments": {},
   "cell_type": "markdown",
   "id": "ba3a5427",
   "metadata": {},
   "source": [
    "# 4. Data Types\n",
    "1) Number\n",
    "2) Stirng\n",
    "3) tuple\n",
    "4) list\n",
    "5) Dictionary\n",
    "6) complex"
   ]
  },
  {
   "cell_type": "code",
   "execution_count": 4,
   "id": "fff59441",
   "metadata": {},
   "outputs": [
    {
     "name": "stdout",
     "output_type": "stream",
     "text": [
      "10\n",
      "<class 'int'>\n"
     ]
    }
   ],
   "source": [
    "# This is integer datatype\n",
    "a=10\n",
    "print(a)\n",
    "print(type(a))"
   ]
  },
  {
   "attachments": {},
   "cell_type": "markdown",
   "id": "08de49cf",
   "metadata": {},
   "source": [
    "# Operators\n",
    "1) Arithematic operator"
   ]
  },
  {
   "attachments": {},
   "cell_type": "markdown",
   "id": "6698c370",
   "metadata": {},
   "source": [
    "# Multiple assignment\n"
   ]
  },
  {
   "cell_type": "code",
   "execution_count": 24,
   "id": "20714006",
   "metadata": {},
   "outputs": [
    {
     "name": "stdout",
     "output_type": "stream",
     "text": [
      "10 11 12 13\n"
     ]
    }
   ],
   "source": [
    "b,c,d = 11,12,13\n",
    "print(a,b,c,d)"
   ]
  },
  {
   "cell_type": "code",
   "execution_count": 9,
   "id": "009ae53c",
   "metadata": {},
   "outputs": [
    {
     "name": "stdout",
     "output_type": "stream",
     "text": [
      "8\n",
      "2\n",
      "1.6666666666666667\n",
      "1\n",
      "2\n"
     ]
    }
   ],
   "source": [
    "x =5\n",
    "y =3\n",
    "print(x+y)\n",
    "print(x-y)\n",
    "print(x/y)  # float value\n",
    "print(x//y)  # integer value\n",
    "print(x%y)"
   ]
  },
  {
   "attachments": {},
   "cell_type": "markdown",
   "id": "70829c0a",
   "metadata": {},
   "source": [
    "# Assignment operator\n",
    "\n",
    "\n"
   ]
  },
  {
   "cell_type": "code",
   "execution_count": 11,
   "id": "1e647cd6",
   "metadata": {},
   "outputs": [
    {
     "name": "stdout",
     "output_type": "stream",
     "text": [
      "8\n"
     ]
    }
   ],
   "source": [
    "x = 5\n",
    "x +=3 \n",
    "print(x)"
   ]
  },
  {
   "cell_type": "code",
   "execution_count": 13,
   "id": "f5af9e0a",
   "metadata": {},
   "outputs": [
    {
     "name": "stdout",
     "output_type": "stream",
     "text": [
      "15\n"
     ]
    }
   ],
   "source": [
    "x = 5\n",
    "x *= 3\n",
    "print(x)"
   ]
  },
  {
   "attachments": {},
   "cell_type": "markdown",
   "id": "ea35c22c",
   "metadata": {},
   "source": [
    "# Comparison operator"
   ]
  },
  {
   "cell_type": "code",
   "execution_count": 14,
   "id": "0a113ee1",
   "metadata": {},
   "outputs": [
    {
     "name": "stdout",
     "output_type": "stream",
     "text": [
      "False\n"
     ]
    }
   ],
   "source": [
    "x =5\n",
    "y =3\n",
    "print(x==y)\n",
    "\n",
    "# return flase beacuse 5 is not equal to 3"
   ]
  },
  {
   "cell_type": "code",
   "execution_count": 16,
   "id": "0c02defa",
   "metadata": {},
   "outputs": [
    {
     "name": "stdout",
     "output_type": "stream",
     "text": [
      "True\n"
     ]
    }
   ],
   "source": [
    "x =5\n",
    "y =3\n",
    "print(x!=y)\n",
    "\n",
    "# return True beacuse 5 is not equal to 3"
   ]
  },
  {
   "attachments": {},
   "cell_type": "markdown",
   "id": "90d57682",
   "metadata": {},
   "source": [
    "# Logical Operator\n"
   ]
  },
  {
   "cell_type": "code",
   "execution_count": 18,
   "id": "cc390624",
   "metadata": {},
   "outputs": [
    {
     "name": "stdout",
     "output_type": "stream",
     "text": [
      "True\n"
     ]
    }
   ],
   "source": [
    "x =5\n",
    "print(x>3 and x<10)\n",
    "# returns True because 5 is greater than 3 AND 5 is less than 10"
   ]
  },
  {
   "cell_type": "code",
   "execution_count": 22,
   "id": "b47479f8",
   "metadata": {},
   "outputs": [
    {
     "name": "stdout",
     "output_type": "stream",
     "text": [
      "False\n"
     ]
    }
   ],
   "source": [
    "x =5\n",
    "print(not(x>3 and x<10))\n",
    "# returns flase because notis used to reverse the result"
   ]
  },
  {
   "cell_type": "code",
   "execution_count": 25,
   "id": "d5f89557",
   "metadata": {},
   "outputs": [
    {
     "name": "stdout",
     "output_type": "stream",
     "text": [
      "Enter the value of x: 5\n",
      "Enter the value of y: 6\n",
      "30\n"
     ]
    }
   ],
   "source": [
    "# use input keyword to take input from user \n",
    "\n",
    "# ask user to enter the value and store it in variable x\n",
    "\n",
    "x= int(input(\"Enter the value of x: \"))\n",
    "# ask to enter the value and store it in variable y\n",
    "y= int(input(\"Enter the value of y: \"))\n",
    "#perform multiplication of x and y and sotre answer in variable z\n",
    "z = x*y\n",
    "# print answer\n",
    "print(z)\n"
   ]
  },
  {
   "attachments": {},
   "cell_type": "markdown",
   "id": "31b33ea4",
   "metadata": {},
   "source": [
    "# String \n",
    ". String in python are identified as a contiguous set of characters represented in the quotation marks. Python allows either pair of single or double quotes.\n",
    ". Subsets of strings can be taken using the slice operator([] and [:])with indexes starting at 0  in the beginning of the string to the end of the string \n",
    ". The plus(+) sign is the string concatenation operator and the asterisk (*) is the repetition operator.\n",
    "\n"
   ]
  },
  {
   "cell_type": "code",
   "execution_count": 29,
   "id": "eeb90a08",
   "metadata": {},
   "outputs": [
    {
     "name": "stdout",
     "output_type": "stream",
     "text": [
      "     python is a programming language   \n"
     ]
    }
   ],
   "source": [
    "statement= \"     python is a programming language   \"\n",
    "print(statement)"
   ]
  },
  {
   "cell_type": "code",
   "execution_count": 32,
   "id": "52f83b67",
   "metadata": {},
   "outputs": [
    {
     "name": "stdout",
     "output_type": "stream",
     "text": [
      "<class 'str'>\n"
     ]
    }
   ],
   "source": [
    "print(type(statement)) # type is used to check the datatype"
   ]
  },
  {
   "cell_type": "code",
   "execution_count": 44,
   "id": "7f0e6c52",
   "metadata": {},
   "outputs": [
    {
     "name": "stdout",
     "output_type": "stream",
     "text": [
      "     python is a programming language  \n"
     ]
    }
   ],
   "source": [
    "print(statement[:-1])"
   ]
  },
  {
   "attachments": {},
   "cell_type": "markdown",
   "id": "089a490d",
   "metadata": {},
   "source": [
    "# Method in python strings\n"
   ]
  },
  {
   "cell_type": "code",
   "execution_count": 67,
   "id": "7a9b26c9",
   "metadata": {},
   "outputs": [
    {
     "data": {
      "text/plain": [
       "'   aditya raj is good boy  '"
      ]
     },
     "execution_count": 67,
     "metadata": {},
     "output_type": "execute_result"
    }
   ],
   "source": [
    "a = '   Aditya raj is good boy  '\n",
    "a.lower()\n"
   ]
  },
  {
   "cell_type": "code",
   "execution_count": 68,
   "id": "7e7d79d5",
   "metadata": {},
   "outputs": [
    {
     "data": {
      "text/plain": [
       "'   ADITYA RAJ IS GOOD BOY  '"
      ]
     },
     "execution_count": 68,
     "metadata": {},
     "output_type": "execute_result"
    }
   ],
   "source": [
    "a.upper()"
   ]
  },
  {
   "cell_type": "code",
   "execution_count": 69,
   "id": "3b9ace63",
   "metadata": {},
   "outputs": [
    {
     "data": {
      "text/plain": [
       "'   Aditya Raj Is Good Boy  '"
      ]
     },
     "execution_count": 69,
     "metadata": {},
     "output_type": "execute_result"
    }
   ],
   "source": [
    "a.title()  # to convert text into snakewriting "
   ]
  },
  {
   "cell_type": "code",
   "execution_count": 72,
   "id": "b0e43106",
   "metadata": {},
   "outputs": [
    {
     "data": {
      "text/plain": [
       "'Aditya raj is good boy  '"
      ]
     },
     "execution_count": 72,
     "metadata": {},
     "output_type": "execute_result"
    }
   ],
   "source": [
    "a.lstrip()  # it remove the space from the left handside"
   ]
  },
  {
   "cell_type": "code",
   "execution_count": 78,
   "id": "08ee175e",
   "metadata": {},
   "outputs": [
    {
     "data": {
      "text/plain": [
       "'   Aditya raj is good boy'"
      ]
     },
     "execution_count": 78,
     "metadata": {},
     "output_type": "execute_result"
    }
   ],
   "source": [
    "a.rstrip()  # it remove the space from the left handside"
   ]
  },
  {
   "cell_type": "code",
   "execution_count": 79,
   "id": "71797f17",
   "metadata": {},
   "outputs": [
    {
     "data": {
      "text/plain": [
       "'Aditya raj is good boy'"
      ]
     },
     "execution_count": 79,
     "metadata": {},
     "output_type": "execute_result"
    }
   ],
   "source": [
    "a.strip()  # it remove the space from the both side"
   ]
  },
  {
   "attachments": {},
   "cell_type": "markdown",
   "id": "d08711fb",
   "metadata": {},
   "source": [
    "# String Formatting\n",
    ". Strings in python can be formatted with the use of format() mehtod which is very versatile and powerful tool for formatting of strings.\n",
    "\n",
    "\n",
    ". Format method in string contains curly braces{} as placeholders which can hold arguments according to position or keyword to specify the order."
   ]
  },
  {
   "cell_type": "code",
   "execution_count": 87,
   "id": "ea8db1c0",
   "metadata": {},
   "outputs": [
    {
     "name": "stdout",
     "output_type": "stream",
     "text": [
      "\n",
      "Print string in Default order: \n"
     ]
    },
    {
     "data": {
      "text/plain": [
       "'Python Programming Language'"
      ]
     },
     "execution_count": 87,
     "metadata": {},
     "output_type": "execute_result"
    }
   ],
   "source": [
    "# Default order\n",
    "string = \"{} {} {}\".format('Python','Programming','Language')  \n",
    "print(\"\\nPrint string in Default order: \")\n",
    "string"
   ]
  },
  {
   "cell_type": "code",
   "execution_count": 84,
   "id": "90ea07d3",
   "metadata": {},
   "outputs": [
    {
     "name": "stdout",
     "output_type": "stream",
     "text": [
      "\n",
      "Print string in Positional order: \n"
     ]
    },
    {
     "data": {
      "text/plain": [
       "'Programming Python Language'"
      ]
     },
     "execution_count": 84,
     "metadata": {},
     "output_type": "execute_result"
    }
   ],
   "source": [
    "string = \"{1} {0} {2}\".format('Python','Programming','Language')  # Positional Formatting\n",
    "print(\"\\nPrint string in Positional order: \")\n",
    "string"
   ]
  },
  {
   "cell_type": "code",
   "execution_count": 88,
   "id": "a64ddef8",
   "metadata": {},
   "outputs": [
    {
     "name": "stdout",
     "output_type": "stream",
     "text": [
      "\n",
      "Print string in keyword order: \n"
     ]
    },
    {
     "data": {
      "text/plain": [
       "'Language Python Programming'"
      ]
     },
     "execution_count": 88,
     "metadata": {},
     "output_type": "execute_result"
    }
   ],
   "source": [
    "string = \"{c} {a} {b}\".format(a='Python',b='Programming',c='Language')  # Keyword Formatting\n",
    "print(\"\\nPrint string in keyword order: \")\n",
    "string"
   ]
  },
  {
   "cell_type": "code",
   "execution_count": 114,
   "id": "6b478caf",
   "metadata": {},
   "outputs": [
    {
     "name": "stdout",
     "output_type": "stream",
     "text": [
      "Hello, My name is Aditya and I registered for Code Unnti Program 2.0\n"
     ]
    }
   ],
   "source": [
    "#The idea behing f-strings is to make string interpolation, simpler, to create an f-string, prefix the string with the letter \"f\".The String itself can be formatted in same way that you would with str.format(). F-strings provide a concise and expressions inside string literals for fromatting.\n",
    "name='Aditya'\n",
    "course='Code Unnti Program 2.0'\n",
    "print(f\"Hello, My name is {name} and I registered for {course}\")"
   ]
  },
  {
   "attachments": {},
   "cell_type": "markdown",
   "id": "8f0d3af3",
   "metadata": {},
   "source": [
    "# String Slicing"
   ]
  },
  {
   "cell_type": "code",
   "execution_count": 93,
   "id": "ded802c6",
   "metadata": {},
   "outputs": [
    {
     "data": {
      "text/plain": [
       "'A'"
      ]
     },
     "execution_count": 93,
     "metadata": {},
     "output_type": "execute_result"
    }
   ],
   "source": [
    "# Positive indexing (forward indexing)  and Negative indexing (backward indexing )\n",
    "str = \"ADITYARAJAVI\"\n",
    "str[0]\n"
   ]
  },
  {
   "cell_type": "code",
   "execution_count": 95,
   "id": "4fa763bf",
   "metadata": {},
   "outputs": [
    {
     "data": {
      "text/plain": [
       "'I'"
      ]
     },
     "execution_count": 95,
     "metadata": {},
     "output_type": "execute_result"
    }
   ],
   "source": [
    "str[2]"
   ]
  },
  {
   "cell_type": "code",
   "execution_count": 98,
   "id": "3c6139b6",
   "metadata": {},
   "outputs": [
    {
     "data": {
      "text/plain": [
       "'ADITY'"
      ]
     },
     "execution_count": 98,
     "metadata": {},
     "output_type": "execute_result"
    }
   ],
   "source": [
    "str[0:5]"
   ]
  },
  {
   "attachments": {},
   "cell_type": "markdown",
   "id": "1c1ae5e8",
   "metadata": {},
   "source": [
    "str[:-1]"
   ]
  },
  {
   "cell_type": "code",
   "execution_count": 103,
   "id": "4b4d69a0",
   "metadata": {},
   "outputs": [
    {
     "data": {
      "text/plain": [
       "'ADITYARAJAVI'"
      ]
     },
     "execution_count": 103,
     "metadata": {},
     "output_type": "execute_result"
    }
   ],
   "source": [
    "str[:]"
   ]
  },
  {
   "cell_type": "code",
   "execution_count": 119,
   "id": "4fb1fe17",
   "metadata": {},
   "outputs": [
    {
     "data": {
      "text/plain": [
       "'JAV'"
      ]
     },
     "execution_count": 119,
     "metadata": {},
     "output_type": "execute_result"
    }
   ],
   "source": [
    "str[-4:-1]"
   ]
  },
  {
   "cell_type": "code",
   "execution_count": 120,
   "id": "a2ffa282",
   "metadata": {},
   "outputs": [
    {
     "data": {
      "text/plain": [
       "'IVAJARAYTIDA'"
      ]
     },
     "execution_count": 120,
     "metadata": {},
     "output_type": "execute_result"
    }
   ],
   "source": [
    "str[::-1]   # it will start form end till last because we are given a negative index "
   ]
  },
  {
   "cell_type": "code",
   "execution_count": 123,
   "id": "3a495178",
   "metadata": {},
   "outputs": [
    {
     "data": {
      "text/plain": [
       "'IVAJARAYTIDA'"
      ]
     },
     "execution_count": 123,
     "metadata": {},
     "output_type": "execute_result"
    }
   ],
   "source": [
    "str[::-1]"
   ]
  },
  {
   "attachments": {},
   "cell_type": "markdown",
   "id": "900a7d15",
   "metadata": {},
   "source": [
    "# List: []"
   ]
  },
  {
   "cell_type": "code",
   "execution_count": 124,
   "id": "e2f0f1ae",
   "metadata": {},
   "outputs": [],
   "source": [
    "# list are used to multiple value in a single varibale.\n",
    "# list is mutable datatypes (changeable)\n",
    "# list are created using square brackets.\n",
    "# list items are ordered and allow duplicate values \n",
    "# list items are indexed, the first items has index[0], the second item has index[1] etc.."
   ]
  },
  {
   "cell_type": "code",
   "execution_count": 131,
   "id": "a11dc8a5",
   "metadata": {},
   "outputs": [
    {
     "name": "stdout",
     "output_type": "stream",
     "text": [
      "['parul', 22, 'Bharat', 45.5, 'vadodra', 99]\n",
      "<class 'list'>\n"
     ]
    }
   ],
   "source": [
    "# create list\n",
    "list1 = [\"parul\", 22, \"Bharat\", 45.5,\"vadodra\",99]\n",
    "print(list1)\n",
    "print(type(list1))"
   ]
  },
  {
   "cell_type": "code",
   "execution_count": 133,
   "id": "fedc13a9",
   "metadata": {},
   "outputs": [
    {
     "data": {
      "text/plain": [
       "'parul'"
      ]
     },
     "execution_count": 133,
     "metadata": {},
     "output_type": "execute_result"
    }
   ],
   "source": [
    "list1[0]       # it will considerd the first whole string at 0 index.  "
   ]
  },
  {
   "cell_type": "code",
   "execution_count": 134,
   "id": "2883bab3",
   "metadata": {},
   "outputs": [
    {
     "data": {
      "text/plain": [
       "'har'"
      ]
     },
     "execution_count": 134,
     "metadata": {},
     "output_type": "execute_result"
    }
   ],
   "source": [
    "list1 = [\"parul\", 22, \"Bharat\", 45.5,\"vadodra\",99]\n",
    "list1[2][1:4] # with the help of this we can do slicling in a particular string."
   ]
  },
  {
   "cell_type": "code",
   "execution_count": 135,
   "id": "1584fe07",
   "metadata": {},
   "outputs": [
    {
     "name": "stdout",
     "output_type": "stream",
     "text": [
      "['apple', 'banana', 'cherry', 'orange']\n"
     ]
    }
   ],
   "source": [
    "fruits = ['apple','banana','cherry']\n",
    "fruits.append(\"orange\")\n",
    "print(fruits)"
   ]
  },
  {
   "cell_type": "code",
   "execution_count": 138,
   "id": "b90fe9fe",
   "metadata": {},
   "outputs": [
    {
     "name": "stdout",
     "output_type": "stream",
     "text": [
      "['apple', 'banana', 'cherry', 'Ford', 'Flite', 'carrom']\n"
     ]
    }
   ],
   "source": [
    "fruits = ['apple','banana','cherry']\n",
    "cars = ['Ford','Flite','carrom']\n",
    "fruits.extend(cars)\n",
    "print(fruits)"
   ]
  },
  {
   "cell_type": "code",
   "execution_count": 140,
   "id": "f8bd9464",
   "metadata": {},
   "outputs": [
    {
     "name": "stdout",
     "output_type": "stream",
     "text": [
      "['apple', 'Aditya', 'banana', 'cherry']\n"
     ]
    }
   ],
   "source": [
    "# inserting element in the specific position.\n",
    "# The insert() method inserts the specified value at the specified positiion.\n",
    "fruits = ['apple','banana','cherry']\n",
    "fruits.insert(1,\"Aditya\")     # insert orange at index 1\n",
    "print(fruits)"
   ]
  },
  {
   "cell_type": "code",
   "execution_count": null,
   "id": "66c99394",
   "metadata": {},
   "outputs": [],
   "source": [
    "# Pop Method\n",
    "\n",
    "#we can remove element at specified index \n",
    "\n",
    "fruits = ['apple','banana','cherry']\n",
    "fruits.pop()      # it will remove last element by default\n",
    "fruits.pop(2)     # it will remove  element from specified position.\n",
    "print(fruits)"
   ]
  }
 ],
 "metadata": {
  "kernelspec": {
   "display_name": "Python 3 (ipykernel)",
   "language": "python",
   "name": "python3"
  },
  "language_info": {
   "codemirror_mode": {
    "name": "ipython",
    "version": 3
   },
   "file_extension": ".py",
   "mimetype": "text/x-python",
   "name": "python",
   "nbconvert_exporter": "python",
   "pygments_lexer": "ipython3",
   "version": "3.11.3"
  }
 },
 "nbformat": 4,
 "nbformat_minor": 5
}
